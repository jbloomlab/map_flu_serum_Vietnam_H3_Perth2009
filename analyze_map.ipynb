{
 "cells": [
  {
   "cell_type": "markdown",
   "metadata": {
    "toc": true
   },
   "source": [
    "<h1>Table of Contents<span class=\"tocSkip\"></span></h1>\n",
    "<div class=\"toc\"><ul class=\"toc-item\"><li><span><a href=\"#Analysis-of-serum-mutational-antigenic-profiling\" data-toc-modified-id=\"Analysis-of-serum-mutational-antigenic-profiling-1\">Analysis of serum mutational antigenic profiling</a></span><ul class=\"toc-item\"><li><span><a href=\"#Configure-analysis\" data-toc-modified-id=\"Configure-analysis-1.1\">Configure analysis</a></span><ul class=\"toc-item\"><li><span><a href=\"#Import-Python-modules-/-packages\" data-toc-modified-id=\"Import-Python-modules-/-packages-1.1.1\">Import Python modules / packages</a></span></li><li><span><a href=\"#Get-config-variables\" data-toc-modified-id=\"Get-config-variables-1.1.2\">Get config variables</a></span></li><li><span><a href=\"#Get-sera-information\" data-toc-modified-id=\"Get-sera-information-1.1.3\">Get sera information</a></span></li><li><span><a href=\"#Get-list-of-samples\" data-toc-modified-id=\"Get-list-of-samples-1.1.4\">Get list of samples</a></span></li><li><span><a href=\"#Download-deep-sequencing-data-if-needed\" data-toc-modified-id=\"Download-deep-sequencing-data-if-needed-1.1.5\">Download deep sequencing data if needed</a></span></li></ul></li><li><span><a href=\"#Align-sequencing-and-count-mutations\" data-toc-modified-id=\"Align-sequencing-and-count-mutations-1.2\">Align sequencing and count mutations</a></span><ul class=\"toc-item\"><li><span><a href=\"#Run-dms2_batch_bcsubamp\" data-toc-modified-id=\"Run-dms2_batch_bcsubamp-1.2.1\">Run <code>dms2_batch_bcsubamp</code></a></span></li><li><span><a href=\"#Plot-sequencing-and-mutation-counts-summaries\" data-toc-modified-id=\"Plot-sequencing-and-mutation-counts-summaries-1.2.2\">Plot sequencing and mutation counts summaries</a></span><ul class=\"toc-item\"><li><span><a href=\"#Reads-and-barcodes-per-sample\" data-toc-modified-id=\"Reads-and-barcodes-per-sample-1.2.2.1\">Reads and barcodes per sample</a></span></li><li><span><a href=\"#Coverage-across-gene\" data-toc-modified-id=\"Coverage-across-gene-1.2.2.2\">Coverage across gene</a></span></li><li><span><a href=\"#Mutation-frequencies\" data-toc-modified-id=\"Mutation-frequencies-1.2.2.3\">Mutation frequencies</a></span></li><li><span><a href=\"#Check-for-oxidative-damage\" data-toc-modified-id=\"Check-for-oxidative-damage-1.2.2.4\">Check for oxidative damage</a></span></li></ul></li><li><span><a href=\"#Renumber-to-standard-HA-numbering\" data-toc-modified-id=\"Renumber-to-standard-HA-numbering-1.2.3\">Renumber to standard HA numbering</a></span></li></ul></li><li><span><a href=\"#Compute-immune-selection-on-mutations\" data-toc-modified-id=\"Compute-immune-selection-on-mutations-1.3\">Compute immune selection on mutations</a></span><ul class=\"toc-item\"><li><span><a href=\"#Samples-to-compare-for-each-selection\" data-toc-modified-id=\"Samples-to-compare-for-each-selection-1.3.1\">Samples to compare for each selection</a></span></li><li><span><a href=\"#Compute-immune-selection\" data-toc-modified-id=\"Compute-immune-selection-1.3.2\">Compute immune selection</a></span></li><li><span><a href=\"#Get-all-selection-information-in-one-data-frame\" data-toc-modified-id=\"Get-all-selection-information-in-one-data-frame-1.3.3\">Get all selection information in one data frame</a></span></li></ul></li><li><span><a href=\"#Analyze-and-plot-immune-selection\" data-toc-modified-id=\"Analyze-and-plot-immune-selection-1.4\">Analyze and plot immune selection</a></span><ul class=\"toc-item\"><li><span><a href=\"#Choose-sample-to-retain-for-each-serum\" data-toc-modified-id=\"Choose-sample-to-retain-for-each-serum-1.4.1\">Choose sample to retain for each serum</a></span><ul class=\"toc-item\"><li><span><a href=\"#Plot-site-level-selection-for-all-samples\" data-toc-modified-id=\"Plot-site-level-selection-for-all-samples-1.4.1.1\">Plot site-level selection for all samples</a></span></li><li><span><a href=\"#Choose-samples-to-retain-based-on-infectivity-remaining\" data-toc-modified-id=\"Choose-samples-to-retain-based-on-infectivity-remaining-1.4.1.2\">Choose samples to retain based on infectivity remaining</a></span></li><li><span><a href=\"#Retained-samples,-percent-infectivity,-and-serum/antibody-concentration\" data-toc-modified-id=\"Retained-samples,-percent-infectivity,-and-serum/antibody-concentration-1.4.1.3\">Retained samples, percent infectivity, and serum/antibody concentration</a></span></li></ul></li><li><span><a href=\"#Compute-serum-average-from-retained-samples\" data-toc-modified-id=\"Compute-serum-average-from-retained-samples-1.4.2\">Compute serum average from retained samples</a></span></li><li><span><a href=\"#Identify-sites-of-&quot;significant&quot;-selection\" data-toc-modified-id=\"Identify-sites-of-&quot;significant&quot;-selection-1.4.3\">Identify sites of \"significant\" selection</a></span><ul class=\"toc-item\"><li><span><a href=\"#Cutoff-for-significance\" data-toc-modified-id=\"Cutoff-for-significance-1.4.3.1\">Cutoff for significance</a></span></li><li><span><a href=\"#Identify-significant-sites\" data-toc-modified-id=\"Identify-significant-sites-1.4.3.2\">Identify significant sites</a></span></li><li><span><a href=\"#List-significant-sites-for-each-serum\" data-toc-modified-id=\"List-significant-sites-for-each-serum-1.4.3.3\">List significant sites for each serum</a></span></li><li><span><a href=\"#Get-significant-sites-for-each-serum-group\" data-toc-modified-id=\"Get-significant-sites-for-each-serum-group-1.4.3.4\">Get significant sites for each serum group</a></span></li></ul></li><li><span><a href=\"#Line-and-logo-plots-of-average-for-each-serum\" data-toc-modified-id=\"Line-and-logo-plots-of-average-for-each-serum-1.4.4\">Line and logo plots of average for each serum</a></span><ul class=\"toc-item\"><li><span><a href=\"#Choose-sites-to-zoom-in-on\" data-toc-modified-id=\"Choose-sites-to-zoom-in-on-1.4.4.1\">Choose sites to zoom-in on</a></span></li><li><span><a href=\"#Write-tidy-data-frame-with-selection-data\" data-toc-modified-id=\"Write-tidy-data-frame-with-selection-data-1.4.4.2\">Write tidy data frame with selection data</a></span></li><li><span><a href=\"#Compact-&quot;zoom&quot;-plots\" data-toc-modified-id=\"Compact-&quot;zoom&quot;-plots-1.4.4.3\">Compact \"zoom\" plots</a></span></li><li><span><a href=\"#Whole-gene-logo-plots\" data-toc-modified-id=\"Whole-gene-logo-plots-1.4.4.4\">Whole-gene logo plots</a></span></li></ul></li><li><span><a href=\"#Plots-of-each-replicate-in-averages\" data-toc-modified-id=\"Plots-of-each-replicate-in-averages-1.4.5\">Plots of each replicate in averages</a></span><ul class=\"toc-item\"><li><span><a href=\"#Zoom-plots-showing-each-replicate\" data-toc-modified-id=\"Zoom-plots-showing-each-replicate-1.4.5.1\">Zoom plots showing each replicate</a></span></li><li><span><a href=\"#Plot-replicate-replicate-correlations\" data-toc-modified-id=\"Plot-replicate-replicate-correlations-1.4.5.2\">Plot replicate-replicate correlations</a></span></li></ul></li></ul></li><li><span><a href=\"#Customized-figures-for-paper\" data-toc-modified-id=\"Customized-figures-for-paper-1.5\">Customized figures for paper</a></span><ul class=\"toc-item\"><li><span><a href=\"#Logo-and-line-plot-figures\" data-toc-modified-id=\"Logo-and-line-plot-figures-1.5.1\">Logo and line plot figures</a></span></li><li><span><a href=\"#Replicate-to-replicate-correlations\" data-toc-modified-id=\"Replicate-to-replicate-correlations-1.5.2\">Replicate-to-replicate correlations</a></span></li><li><span><a href=\"#Percent-infectivity-for-each-replicate\" data-toc-modified-id=\"Percent-infectivity-for-each-replicate-1.5.3\">Percent infectivity for each replicate</a></span></li></ul></li></ul></li></ul></div>"
   ]
  },
  {
   "cell_type": "markdown",
   "metadata": {},
   "source": [
    "# Analysis of serum mutational antigenic profiling\n",
    "This Python Jupyter notebook analyzes mutational antigenic profiling of serum against virus carrying the A/Perth/2009 (H3N2) HA."
   ]
  },
  {
   "cell_type": "markdown",
   "metadata": {
    "toc-hr-collapsed": false
   },
   "source": [
    "## Configure analysis\n",
    "We first configure the analysis by importing packages and getting information on the samples that we will analyze."
   ]
  },
  {
   "cell_type": "markdown",
   "metadata": {},
   "source": [
    "### Import Python modules / packages\n",
    "Import modules / packages.\n",
    "In particular, we use:\n",
    "\n",
    " - [plotnine](https://plotnine.readthedocs.io) for ggplot2-like plotting syntax\n",
    " - [dmslogo](https://jbloomlab.github.io/dmslogo/) to draw sequence logo plots\n",
    " - [dms_tools2](https://jbloomlab.github.io/dms_tools2/) for much of the analysis"
   ]
  },
  {
   "cell_type": "code",
   "execution_count": 1,
   "metadata": {},
   "outputs": [],
   "source": [
    "import os\n",
    "import math\n",
    "import collections\n",
    "import itertools\n",
    "import warnings\n",
    "import subprocess\n",
    "\n",
    "import yaml\n",
    "import pandas as pd\n",
    "\n",
    "from IPython.display import display, HTML\n",
    "\n",
    "import matplotlib.pyplot as plt\n",
    "\n",
    "from plotnine import *\n",
    "\n",
    "import dms_tools2\n",
    "from dms_tools2.ipython_utils import showPDF\n",
    "from dms_tools2.plot import COLOR_BLIND_PALETTE_GRAY as PALETTE\n",
    "\n",
    "import dmslogo"
   ]
  },
  {
   "cell_type": "markdown",
   "metadata": {},
   "source": [
    "Turn on interactive matplotlib plotting:"
   ]
  },
  {
   "cell_type": "code",
   "execution_count": 2,
   "metadata": {},
   "outputs": [],
   "source": [
    "plt.ion()  # turn on interactive plotting"
   ]
  },
  {
   "cell_type": "markdown",
   "metadata": {},
   "source": [
    "Print versions of Bloom lab software:"
   ]
  },
  {
   "cell_type": "code",
   "execution_count": 3,
   "metadata": {},
   "outputs": [
    {
     "name": "stdout",
     "output_type": "stream",
     "text": [
      "Using dms_tools2 version 2.4.12\n",
      "Using dmslogo version 0.2.3\n"
     ]
    }
   ],
   "source": [
    "print(f\"Using dms_tools2 version {dms_tools2.__version__}\")\n",
    "print(f\"Using dmslogo version {dmslogo.__version__}\")"
   ]
  },
  {
   "cell_type": "markdown",
   "metadata": {},
   "source": [
    "Set data frame display options:"
   ]
  },
  {
   "cell_type": "code",
   "execution_count": 4,
   "metadata": {},
   "outputs": [],
   "source": [
    "pd.set_option('display.max_colwidth', 200)"
   ]
  },
  {
   "cell_type": "markdown",
   "metadata": {},
   "source": [
    "Ignore warnings that can clutter notebook:"
   ]
  },
  {
   "cell_type": "code",
   "execution_count": 5,
   "metadata": {},
   "outputs": [],
   "source": [
    "warnings.simplefilter('ignore')"
   ]
  },
  {
   "cell_type": "markdown",
   "metadata": {},
   "source": [
    "### Get config variables\n",
    "Read the variables from the config file.\n",
    "These variables specify input / output paths and key parameters for analysis:"
   ]
  },
  {
   "cell_type": "code",
   "execution_count": 6,
   "metadata": {},
   "outputs": [
    {
     "name": "stdout",
     "output_type": "stream",
     "text": [
      "Read the following configuration from config.yaml:\n"
     ]
    },
    {
     "data": {
      "text/html": [
       "<table border=\"1\" class=\"dataframe\">\n",
       "  <thead>\n",
       "    <tr style=\"text-align: right;\">\n",
       "      <th></th>\n",
       "      <th>value</th>\n",
       "    </tr>\n",
       "  </thead>\n",
       "  <tbody>\n",
       "    <tr>\n",
       "      <th>serum_info</th>\n",
       "      <td>data/serum_info.yaml</td>\n",
       "    </tr>\n",
       "    <tr>\n",
       "      <th>sample_list</th>\n",
       "      <td>data/sample_list.csv</td>\n",
       "    </tr>\n",
       "    <tr>\n",
       "      <th>refseq</th>\n",
       "      <td>data/Perth09_HA_reference.fa</td>\n",
       "    </tr>\n",
       "    <tr>\n",
       "      <th>renumbering_scheme</th>\n",
       "      <td>data/H3renumbering_scheme.csv</td>\n",
       "    </tr>\n",
       "    <tr>\n",
       "      <th>seq_data_source</th>\n",
       "      <td>R1</td>\n",
       "    </tr>\n",
       "    <tr>\n",
       "      <th>fastq_dir</th>\n",
       "      <td>results/FASTQ_files</td>\n",
       "    </tr>\n",
       "    <tr>\n",
       "      <th>fastq_dump</th>\n",
       "      <td>fastq-dump</td>\n",
       "    </tr>\n",
       "    <tr>\n",
       "      <th>ascp</th>\n",
       "      <td>/app/aspera-connect/3.7.5/bin/ascp</td>\n",
       "    </tr>\n",
       "    <tr>\n",
       "      <th>asperakey</th>\n",
       "      <td>/app/aspera-connect/3.7.5/etc/asperaweb_id_dsa.openssh</td>\n",
       "    </tr>\n",
       "    <tr>\n",
       "      <th>alignspecs</th>\n",
       "      <td>1,285,38,40 286,567,33,34 568,852,34,30 853,1137,34,31 1138,1422,36,29 1423,1701,39,44</td>\n",
       "    </tr>\n",
       "    <tr>\n",
       "      <th>R1trim</th>\n",
       "      <td>200</td>\n",
       "    </tr>\n",
       "    <tr>\n",
       "      <th>R2trim</th>\n",
       "      <td>165</td>\n",
       "    </tr>\n",
       "    <tr>\n",
       "      <th>ncpus</th>\n",
       "      <td>16</td>\n",
       "    </tr>\n",
       "    <tr>\n",
       "      <th>use_existing</th>\n",
       "      <td>yes</td>\n",
       "    </tr>\n",
       "    <tr>\n",
       "      <th>avg_type</th>\n",
       "      <td>median</td>\n",
       "    </tr>\n",
       "    <tr>\n",
       "      <th>natseqs</th>\n",
       "      <td>data/human_H3N2_HA_2007-2018.fasta.gz</td>\n",
       "    </tr>\n",
       "    <tr>\n",
       "      <th>wt_neut_config</th>\n",
       "      <td>data/wt_neut_config.yaml</td>\n",
       "    </tr>\n",
       "    <tr>\n",
       "      <th>figure_config</th>\n",
       "      <td>data/figure_config.yaml</td>\n",
       "    </tr>\n",
       "    <tr>\n",
       "      <th>map_on_struct_template</th>\n",
       "      <td>map_on_struct_template.ipynb</td>\n",
       "    </tr>\n",
       "    <tr>\n",
       "      <th>pdb_id</th>\n",
       "      <td>4o5n</td>\n",
       "    </tr>\n",
       "    <tr>\n",
       "      <th>site_to_pdb</th>\n",
       "      <td>data/H3_site_to_PDB_4o5n.csv</td>\n",
       "    </tr>\n",
       "    <tr>\n",
       "      <th>countsdir</th>\n",
       "      <td>results/codoncounts</td>\n",
       "    </tr>\n",
       "    <tr>\n",
       "      <th>renumbcountsdir</th>\n",
       "      <td>results/renumbered_codoncounts</td>\n",
       "    </tr>\n",
       "    <tr>\n",
       "      <th>selectiontabledir</th>\n",
       "      <td>results/selection_tables</td>\n",
       "    </tr>\n",
       "    <tr>\n",
       "      <th>diffseldir</th>\n",
       "      <td>results/diffsel</td>\n",
       "    </tr>\n",
       "    <tr>\n",
       "      <th>avgdiffseldir</th>\n",
       "      <td>results/avgdiffsel</td>\n",
       "    </tr>\n",
       "    <tr>\n",
       "      <th>avgdiffsel_sigsites_dir</th>\n",
       "      <td>results/avgdiffsel/sigsites</td>\n",
       "    </tr>\n",
       "    <tr>\n",
       "      <th>avgdiffsel_zoom_dir</th>\n",
       "      <td>results/avgdiffsel/zoomed_plots</td>\n",
       "    </tr>\n",
       "    <tr>\n",
       "      <th>avgdiffsel_reps_dir</th>\n",
       "      <td>results/avgdiffsel/replicates</td>\n",
       "    </tr>\n",
       "    <tr>\n",
       "      <th>avgdiffsel_full_dir</th>\n",
       "      <td>results/avgdiffsel/full_logo_plots</td>\n",
       "    </tr>\n",
       "    <tr>\n",
       "      <th>natseqs_dir</th>\n",
       "      <td>results/natseqs</td>\n",
       "    </tr>\n",
       "    <tr>\n",
       "      <th>neutresultsdir</th>\n",
       "      <td>results/neutralization_assays</td>\n",
       "    </tr>\n",
       "    <tr>\n",
       "      <th>structsdir</th>\n",
       "      <td>results/structs</td>\n",
       "    </tr>\n",
       "    <tr>\n",
       "      <th>figsdir</th>\n",
       "      <td>results/figures</td>\n",
       "    </tr>\n",
       "    <tr>\n",
       "      <th>finalfigsdir</th>\n",
       "      <td>results/figures/final</td>\n",
       "    </tr>\n",
       "    <tr>\n",
       "      <th>notebookdir</th>\n",
       "      <td>results/notebooks</td>\n",
       "    </tr>\n",
       "    <tr>\n",
       "      <th>wt_neut_and_bind_outdir</th>\n",
       "      <td>results/wt_neut_and_bind</td>\n",
       "    </tr>\n",
       "  </tbody>\n",
       "</table>"
      ],
      "text/plain": [
       "<IPython.core.display.HTML object>"
      ]
     },
     "metadata": {},
     "output_type": "display_data"
    }
   ],
   "source": [
    "configfile = 'config.yaml'\n",
    "\n",
    "with open(configfile) as f:\n",
    "    config = yaml.safe_load(f)\n",
    "\n",
    "print(f\"Read the following configuration from {configfile}:\")\n",
    "display(HTML(pd.Series(config)\n",
    "             .to_frame('value')\n",
    "             .to_html()\n",
    "             ))"
   ]
  },
  {
   "cell_type": "markdown",
   "metadata": {},
   "source": [
    "### Get sera information\n",
    "Read information on the sera that are being mapped.\n",
    "\n",
    "For each serum sample below, we get:\n",
    "  - *serum*: the abbreviation used for that serum in the experiments\n",
    "  - *serum_description*: description of the serum\n",
    "  - *serum_group*: group to which the serum belongs\n",
    "  - *serum_name*: a short informative name"
   ]
  },
  {
   "cell_type": "code",
   "execution_count": 7,
   "metadata": {},
   "outputs": [
    {
     "name": "stdout",
     "output_type": "stream",
     "text": [
      "Read the following sera information from data/serum_info.yaml:\n"
     ]
    },
    {
     "data": {
      "text/html": [
       "<table border=\"1\" class=\"dataframe\">\n",
       "  <thead>\n",
       "    <tr style=\"text-align: right;\">\n",
       "      <th>serum</th>\n",
       "      <th>serum_description</th>\n",
       "      <th>serum_group</th>\n",
       "      <th>serum_name</th>\n",
       "    </tr>\n",
       "  </thead>\n",
       "  <tbody>\n",
       "    <tr>\n",
       "      <td>mock</td>\n",
       "      <td>no-serum control</td>\n",
       "      <td>mock</td>\n",
       "      <td>no-serum</td>\n",
       "    </tr>\n",
       "    <tr>\n",
       "      <td>plasmid</td>\n",
       "      <td>plasmid used as control to estimate sequencing error rate</td>\n",
       "      <td>plasmid</td>\n",
       "      <td>plasmid</td>\n",
       "    </tr>\n",
       "    <tr>\n",
       "      <td>HC070097</td>\n",
       "      <td>serum from OUCRU in Ho Chi Minh City, Vietnam</td>\n",
       "      <td>adult_high_bind</td>\n",
       "      <td>HC070097</td>\n",
       "    </tr>\n",
       "    <tr>\n",
       "      <td>HC070021</td>\n",
       "      <td>serum from OUCRU in Ho Chi Minh City, Vietnam</td>\n",
       "      <td>child_high_bind</td>\n",
       "      <td>HC070021</td>\n",
       "    </tr>\n",
       "    <tr>\n",
       "      <td>HC070041</td>\n",
       "      <td>serum from OUCRU in Ho Chi Minh City, Vietnam</td>\n",
       "      <td>child_high_bind</td>\n",
       "      <td>HC070041</td>\n",
       "    </tr>\n",
       "    <tr>\n",
       "      <td>HC150036</td>\n",
       "      <td>serum from OUCRU in Ho Chi Minh City, Vietnam</td>\n",
       "      <td>child_high_bind</td>\n",
       "      <td>HC150036</td>\n",
       "    </tr>\n",
       "    <tr>\n",
       "      <td>HC150044</td>\n",
       "      <td>serum from OUCRU in Ho Chi Minh City, Vietnam</td>\n",
       "      <td>child_high_bind</td>\n",
       "      <td>HC150044</td>\n",
       "    </tr>\n",
       "    <tr>\n",
       "      <td>VIDD1</td>\n",
       "      <td>collected at Hutch in 2/2010 from person born in 1989</td>\n",
       "      <td>VIDD_sera</td>\n",
       "      <td>2010-age-21</td>\n",
       "    </tr>\n",
       "    <tr>\n",
       "      <td>VIDD2</td>\n",
       "      <td>collected at Hutch in 1/2009 from person born in 1956</td>\n",
       "      <td>VIDD_sera</td>\n",
       "      <td>2009-age-53</td>\n",
       "    </tr>\n",
       "    <tr>\n",
       "      <td>VIDDpool</td>\n",
       "      <td>pooled Hutch VIDD samples (VIDD1, VIDD2, VIDD4, and VIDD5)</td>\n",
       "      <td>human</td>\n",
       "      <td>VIDD pool</td>\n",
       "    </tr>\n",
       "  </tbody>\n",
       "</table>"
      ],
      "text/plain": [
       "<IPython.core.display.HTML object>"
      ]
     },
     "metadata": {},
     "output_type": "display_data"
    }
   ],
   "source": [
    "with open(config['serum_info']) as f:\n",
    "    sera = (pd.DataFrame(yaml.safe_load(f))\n",
    "            .transpose()\n",
    "            .add_prefix('serum_')\n",
    "            .rename_axis('serum')\n",
    "            .reset_index()\n",
    "            )\n",
    "\n",
    "assert len(sera) == len(sera['serum'].unique()), 'sera not unique'\n",
    "\n",
    "print(f\"Read the following sera information from {config['serum_info']}:\")\n",
    "display(HTML(sera.to_html(index=False)))"
   ]
  },
  {
   "cell_type": "markdown",
   "metadata": {},
   "source": [
    "### Get list of samples\n",
    "Read information about all of the samples that we have deep sequenced.\n",
    "\n",
    "For each sample, we have information on the serum to which it corresponds, the virus library, the date of sequencing, the serum dilution, the percent infectivity, and (depending on the value of *seq_data_source* in the config file) either the [Sequence Read Archive (SRA)](https://www.ncbi.nlm.nih.gov/sra) accession or the location of the R1 files on the Hutch server:"
   ]
  },
  {
   "cell_type": "code",
   "execution_count": 8,
   "metadata": {
    "scrolled": false
   },
   "outputs": [
    {
     "name": "stdout",
     "output_type": "stream",
     "text": [
      "Read the following samples from data/sample_list.csv:\n"
     ]
    },
    {
     "data": {
      "text/html": [
       "<table border=\"1\" class=\"dataframe\">\n",
       "  <thead>\n",
       "    <tr style=\"text-align: right;\">\n",
       "      <th>sample</th>\n",
       "      <th>serum</th>\n",
       "      <th>library</th>\n",
       "      <th>date</th>\n",
       "      <th>serum_dilution</th>\n",
       "      <th>percent_infectivity</th>\n",
       "      <th>R1</th>\n",
       "      <th>SRA_accession</th>\n",
       "    </tr>\n",
       "  </thead>\n",
       "  <tbody>\n",
       "    <tr>\n",
       "      <td>HC070097</td>\n",
       "      <td>HC070097</td>\n",
       "      <td>lib2</td>\n",
       "      <td>2019-06-06</td>\n",
       "      <td>0.0.001604</td>\n",
       "      <td>2.33</td>\n",
       "      <td>/shared/ngs/illumina/bloom_lab/190606_D00300_0758_BH2CN3BCX3/Unaligned/Project_bloom_lab/Sample_HC070097/*R1*.fastq.gz</td>\n",
       "      <td>NaN</td>\n",
       "    </tr>\n",
       "    <tr>\n",
       "      <td>HC070021</td>\n",
       "      <td>HC070021</td>\n",
       "      <td>lib2</td>\n",
       "      <td>2019-06-06</td>\n",
       "      <td>0.0007648</td>\n",
       "      <td>12.33</td>\n",
       "      <td>/shared/ngs/illumina/bloom_lab/190606_D00300_0758_BH2CN3BCX3/Unaligned/Project_bloom_lab/Sample_HC070021/*R1*.fastq.gz</td>\n",
       "      <td>NaN</td>\n",
       "    </tr>\n",
       "    <tr>\n",
       "      <td>HC070041</td>\n",
       "      <td>HC070041</td>\n",
       "      <td>lib2</td>\n",
       "      <td>2019-06-06</td>\n",
       "      <td>0.003396</td>\n",
       "      <td>0.28</td>\n",
       "      <td>/shared/ngs/illumina/bloom_lab/190606_D00300_0758_BH2CN3BCX3/Unaligned/Project_bloom_lab/Sample_HC070041/*R1*.fastq.gz</td>\n",
       "      <td>NaN</td>\n",
       "    </tr>\n",
       "    <tr>\n",
       "      <td>HC150036</td>\n",
       "      <td>HC150036</td>\n",
       "      <td>lib2</td>\n",
       "      <td>2019-06-06</td>\n",
       "      <td>0.0024</td>\n",
       "      <td>5.18</td>\n",
       "      <td>/shared/ngs/illumina/bloom_lab/190606_D00300_0758_BH2CN3BCX3/Unaligned/Project_bloom_lab/Sample_HC150036/*R1*.fastq.gz</td>\n",
       "      <td>NaN</td>\n",
       "    </tr>\n",
       "    <tr>\n",
       "      <td>HC150044</td>\n",
       "      <td>HC150044</td>\n",
       "      <td>lib2</td>\n",
       "      <td>2019-06-06</td>\n",
       "      <td>0.00242</td>\n",
       "      <td>5.65</td>\n",
       "      <td>/shared/ngs/illumina/bloom_lab/190606_D00300_0758_BH2CN3BCX3/Unaligned/Project_bloom_lab/Sample_HC150044/*R1*.fastq.gz</td>\n",
       "      <td>NaN</td>\n",
       "    </tr>\n",
       "    <tr>\n",
       "      <td>Lib5mock</td>\n",
       "      <td>mock</td>\n",
       "      <td>lib2</td>\n",
       "      <td>2019-06-06</td>\n",
       "      <td>NaN</td>\n",
       "      <td>100.00</td>\n",
       "      <td>/shared/ngs/illumina/bloom_lab/190606_D00300_0758_BH2CN3BCX3/Unaligned/Project_bloom_lab/Sample_Lib5mock/*R1*.fastq.gz</td>\n",
       "      <td>NaN</td>\n",
       "    </tr>\n",
       "    <tr>\n",
       "      <td>WTplasmid</td>\n",
       "      <td>plasmid</td>\n",
       "      <td>lib2</td>\n",
       "      <td>2019-06-06</td>\n",
       "      <td>NaN</td>\n",
       "      <td>NaN</td>\n",
       "      <td>/shared/ngs/illumina/bloom_lab/190606_D00300_0758_BH2CN3BCX3/Unaligned/Project_bloom_lab/Sample_mutPlasmid/*R1*.fastq.gz</td>\n",
       "      <td>NaN</td>\n",
       "    </tr>\n",
       "    <tr>\n",
       "      <td>VIDDpool</td>\n",
       "      <td>VIDDpool</td>\n",
       "      <td>lib2</td>\n",
       "      <td>2019-06-06</td>\n",
       "      <td>NaN</td>\n",
       "      <td>9.52</td>\n",
       "      <td>/shared/ngs/illumina/bloom_lab/190606_D00300_0758_BH2CN3BCX3/Unaligned/Project_bloom_lab/Sample_VIDDpool/*R1*.fastq.gz</td>\n",
       "      <td>NaN</td>\n",
       "    </tr>\n",
       "    <tr>\n",
       "      <td>L5-VIDD1</td>\n",
       "      <td>VIDD1</td>\n",
       "      <td>lib2</td>\n",
       "      <td>2019-01-16</td>\n",
       "      <td>0.0045</td>\n",
       "      <td>5.95</td>\n",
       "      <td>/shared/ngs/illumina/jmlee34/190116_D00300_0668_AHVHCFBCX2/Unaligned/Project_jmlee34/Sample_expt06/*R1*.fastq.gz</td>\n",
       "      <td>SRR8875175</td>\n",
       "    </tr>\n",
       "    <tr>\n",
       "      <td>L5-VIDD2</td>\n",
       "      <td>VIDD2</td>\n",
       "      <td>lib2</td>\n",
       "      <td>2019-01-16</td>\n",
       "      <td>0.00375</td>\n",
       "      <td>2.03</td>\n",
       "      <td>/shared/ngs/illumina/jmlee34/190116_D00300_0668_AHVHCFBCX2/Unaligned/Project_jmlee34/Sample_expt19/*R1*.fastq.gz</td>\n",
       "      <td>SRR8875192</td>\n",
       "    </tr>\n",
       "    <tr>\n",
       "      <td>Lib5mock-A</td>\n",
       "      <td>mock</td>\n",
       "      <td>lib2</td>\n",
       "      <td>2019-01-16</td>\n",
       "      <td>NaN</td>\n",
       "      <td>100.00</td>\n",
       "      <td>/shared/ngs/illumina/jmlee34/190116_D00300_0668_AHVHCFBCX2/Unaligned/Project_jmlee34/Sample_expt25/*R1*.fastq.gz</td>\n",
       "      <td>SRR8875188</td>\n",
       "    </tr>\n",
       "    <tr>\n",
       "      <td>WTplasmid-B</td>\n",
       "      <td>plasmid</td>\n",
       "      <td>lib2</td>\n",
       "      <td>2019-01-16</td>\n",
       "      <td>NaN</td>\n",
       "      <td>NaN</td>\n",
       "      <td>/shared/ngs/illumina/jmlee34/190116_D00300_0668_AHVHCFBCX2/Unaligned/Project_jmlee34/Sample_WTplasmid-2e5/*R1*.fastq.gz</td>\n",
       "      <td>SRR8875195</td>\n",
       "    </tr>\n",
       "  </tbody>\n",
       "</table>"
      ],
      "text/plain": [
       "<IPython.core.display.HTML object>"
      ]
     },
     "metadata": {},
     "output_type": "display_data"
    }
   ],
   "source": [
    "samples = pd.read_csv(config['sample_list'])\n",
    "\n",
    "# don't need any R1 column if we are using SRA accession\n",
    "if config['seq_data_source'] == 'SRA_accession':\n",
    "    samples = samples.drop(columns='R1', errors='ignore')\n",
    "\n",
    "assert len(samples) == len(samples['sample'].unique()), 'non-unique samples'\n",
    "\n",
    "print(f\"Read the following samples from {config['sample_list']}:\")\n",
    "display(HTML(samples.to_html(index=False)))"
   ]
  },
  {
   "cell_type": "markdown",
   "metadata": {},
   "source": [
    "Check that the serum for all samples are in our set of sera:"
   ]
  },
  {
   "cell_type": "code",
   "execution_count": 9,
   "metadata": {},
   "outputs": [
    {
     "name": "stdout",
     "output_type": "stream",
     "text": [
      "We have information for all sera used for the samples.\n"
     ]
    }
   ],
   "source": [
    "unknown_sera = set(samples['serum']) - set(sera['serum'])\n",
    "if unknown_sera:\n",
    "    raise ValueError(f\"samples include unknown sera: {unknown_sera}\")\n",
    "else:\n",
    "    print('We have information for all sera used for the samples.')"
   ]
  },
  {
   "cell_type": "markdown",
   "metadata": {},
   "source": [
    "### Download deep sequencing data if needed\n",
    "The config file specifies whether we get the data from existing *R1* files on the Hutch server, or download the data from the [Sequence Read Archive](https://www.ncbi.nlm.nih.gov/sra) (SRA) using [dms_tools2.sra.fastqFromSRA](https://jbloomlab.github.io/dms_tools2/dms_tools2.sra.html):"
   ]
  },
  {
   "cell_type": "code",
   "execution_count": 10,
   "metadata": {},
   "outputs": [],
   "source": [
    "if config['seq_data_source'] == 'SRA_accession':\n",
    "   \n",
    "    # are we using Aspera for rapid downloads?\n",
    "    if config['ascp'] and config['asperakey']:\n",
    "        aspera = (config['ascp'], config['asperakey'])\n",
    "    else:\n",
    "        aspera = None\n",
    "        \n",
    "    # do the downloads\n",
    "    print(f\"Downloading FASTQ files to {config['fastq_dir']} (takes a while)...\")\n",
    "    os.makedirs(config['fastq_dir'], exist_ok=True)\n",
    "    samples = samples.rename(columns={'sample': 'name',\n",
    "                                      'SRA_accession': 'run'})\n",
    "    dms_tools2.sra.fastqFromSRA(\n",
    "            samples=samples,\n",
    "            fastq_dump=config['fastq_dump'],\n",
    "            fastqdir=config['fastq_dir'],\n",
    "            aspera=aspera,\n",
    "            ncpus=config['ncpus'],\n",
    "            )\n",
    "    samples = samples.rename(columns={'name': 'sample',\n",
    "                                      'run': 'SRA_accession'})\n",
    "    print('Completed downloading files.')\n",
    "        \n",
    "elif config['seq_data_source'] != 'R1':\n",
    "    raise ValueError('invalid value of `seq_data_source`')"
   ]
  },
  {
   "cell_type": "markdown",
   "metadata": {
    "toc-hr-collapsed": false
   },
   "source": [
    "## Align sequencing and count mutations\n",
    "The samples were sequenced using [barcoded subamplicon sequencing](https://jbloomlab.github.io/dms_tools2/bcsubamp.html) to obtain high accuracy.\n",
    "So we need to process these data to determine the counts of each codon mutation in each sample.\n",
    "\n",
    "First, create the directory used for the results of this part of the analysis:"
   ]
  },
  {
   "cell_type": "code",
   "execution_count": 11,
   "metadata": {},
   "outputs": [
    {
     "name": "stdout",
     "output_type": "stream",
     "text": [
      "Results from counting mutations go to results/codoncounts\n"
     ]
    }
   ],
   "source": [
    "os.makedirs(config['countsdir'], exist_ok=True)\n",
    "\n",
    "print(f\"Results from counting mutations go to {config['countsdir']}\")"
   ]
  },
  {
   "cell_type": "markdown",
   "metadata": {},
   "source": [
    "### Run `dms2_batch_bcsubamp`\n",
    "We process the sequencing data by using [dms2_batch_bcsubamp](https://jbloomlab.github.io/dms_tools2/dms2_batch_bcsubamp.html#dms2-batch-bcsubamp) to generate \"codon counts\" files that give the counts of each codon mutation for each sample.\n",
    "\n",
    "First, write the batch file used as input by this program:"
   ]
  },
  {
   "cell_type": "code",
   "execution_count": 12,
   "metadata": {},
   "outputs": [
    {
     "name": "stdout",
     "output_type": "stream",
     "text": [
      "Creating batch file results/codoncounts/batch.csv\n"
     ]
    }
   ],
   "source": [
    "bcsubamp_batchfile = os.path.join(config['countsdir'], 'batch.csv')\n",
    "\n",
    "(samples\n",
    " .rename(columns={'sample': 'name'})\n",
    " [['name', 'R1']]\n",
    " .to_csv(bcsubamp_batchfile, index=False)\n",
    " )\n",
    "\n",
    "print(f\"Creating batch file {bcsubamp_batchfile}\")"
   ]
  },
  {
   "cell_type": "markdown",
   "metadata": {},
   "source": [
    "Now run the program:"
   ]
  },
  {
   "cell_type": "code",
   "execution_count": 13,
   "metadata": {},
   "outputs": [
    {
     "name": "stdout",
     "output_type": "stream",
     "text": [
      "Running dms2_batch_bcsubamp with this command:\n",
      "dms2_batch_bcsubamp --batchfile results/codoncounts/batch.csv --refseq data/Perth09_HA_reference.fa --alignspecs 1,285,38,40 286,567,33,34 568,852,34,30 853,1137,34,31 1138,1422,36,29 1423,1701,39,44 --R1trim 200 --R2trim 165 --outdir results/codoncounts --summaryprefix summary --ncpus 2 --use_existing yes\n",
      "Completed running dms2_batch_bcsubamp.\n"
     ]
    }
   ],
   "source": [
    "cmds = ['dms2_batch_bcsubamp',\n",
    "        '--batchfile', bcsubamp_batchfile,\n",
    "        '--refseq', config['refseq'],\n",
    "        '--alignspecs'] + config['alignspecs'].split() + [\n",
    "        '--R1trim', str(config['R1trim']),\n",
    "        '--R2trim', str(config['R2trim']),\n",
    "        '--outdir', config['countsdir'],\n",
    "        '--summaryprefix', 'summary',\n",
    "        '--ncpus', '2',\n",
    "        '--use_existing', config['use_existing'],\n",
    "        ]\n",
    "\n",
    "if config['seq_data_source'] == 'SRA_accession':\n",
    "    cmds += ['--fastqdir', config['fastq_dir']]\n",
    "\n",
    "print(f\"Running dms2_batch_bcsubamp with this command:\\n{' '.join(cmds)}\")\n",
    "subprocess.check_output(cmds)\n",
    "print('Completed running dms2_batch_bcsubamp.')"
   ]
  },
  {
   "cell_type": "markdown",
   "metadata": {},
   "source": [
    "Confirm that all the expected counts files exist:"
   ]
  },
  {
   "cell_type": "code",
   "execution_count": 14,
   "metadata": {},
   "outputs": [],
   "source": [
    "assert all(os.path.isfile(f) for f in\n",
    "           config['countsdir'] + '/' + samples['sample'] + '_codoncounts.csv'\n",
    "           ), 'missing counts files'"
   ]
  },
  {
   "cell_type": "markdown",
   "metadata": {
    "toc-hr-collapsed": false
   },
   "source": [
    "### Plot sequencing and mutation counts summaries\n",
    "Running [dms2_batch_bcsubamp](https://jbloomlab.github.io/dms_tools2/dms2_batch_bcsubamp.html#dms2-batch-bcsubamp) created some summary plots.\n",
    "The prefix on those plots should be as follows:"
   ]
  },
  {
   "cell_type": "code",
   "execution_count": 15,
   "metadata": {},
   "outputs": [],
   "source": [
    "countsplotprefix = os.path.join(config['countsdir'], 'summary_')"
   ]
  },
  {
   "cell_type": "markdown",
   "metadata": {},
   "source": [
    "#### Reads and barcodes per sample\n",
    "Total sequencing reads per sample:"
   ]
  },
  {
   "cell_type": "code",
   "execution_count": 16,
   "metadata": {},
   "outputs": [
    {
     "data": {
      "image/png": "[encoded data removed]",
      "text/plain": [
       "<IPython.core.display.Image object>"
      ]
     },
     "metadata": {},
     "output_type": "display_data"
    }
   ],
   "source": [
    "showPDF(countsplotprefix + 'readstats.pdf')"
   ]
  },
  {
   "cell_type": "markdown",
   "metadata": {},
   "source": [
    "Distribution of sequencing reads per barcode on subamplicons:"
   ]
  },
  {
   "cell_type": "code",
   "execution_count": 17,
   "metadata": {
    "scrolled": false
   },
   "outputs": [
    {
     "data": {
      "image/png": "[encoded data removed]",
      "text/plain": [
       "<IPython.core.display.Image object>"
      ]
     },
     "metadata": {},
     "output_type": "display_data"
    }
   ],
   "source": [
    "showPDF(countsplotprefix + 'readsperbc.pdf')"
   ]
  },
  {
   "cell_type": "markdown",
   "metadata": {},
   "source": [
    "Number of barcoded subamplicons that align and have sufficient reads:"
   ]
  },
  {
   "cell_type": "code",
   "execution_count": 18,
   "metadata": {},
   "outputs": [
    {
     "data": {
      "image/png": "[encoded data removed]",
      "text/plain": [
       "<IPython.core.display.Image object>"
      ]
     },
     "metadata": {},
     "output_type": "display_data"
    }
   ],
   "source": [
    "showPDF(countsplotprefix + 'bcstats.pdf')"
   ]
  },
  {
   "cell_type": "markdown",
   "metadata": {},
   "source": [
    "#### Coverage across gene\n",
    "Depth of valid barcoded subamplicons covering each site in the gene:"
   ]
  },
  {
   "cell_type": "code",
   "execution_count": 19,
   "metadata": {
    "scrolled": false
   },
   "outputs": [
    {
     "data": {
      "image/png": "[encoded data removed]",
      "text/plain": [
       "<IPython.core.display.Image object>"
      ]
     },
     "metadata": {},
     "output_type": "display_data"
    }
   ],
   "source": [
    "showPDF(countsplotprefix + 'depth.pdf')"
   ]
  },
  {
   "cell_type": "markdown",
   "metadata": {},
   "source": [
    "#### Mutation frequencies\n",
    "The average mutation frequency for each sample, stratifying by codon mutation type:"
   ]
  },
  {
   "cell_type": "code",
   "execution_count": 20,
   "metadata": {},
   "outputs": [
    {
     "data": {
      "image/png": "[encoded data removed]",
      "text/plain": [
       "<IPython.core.display.Image object>"
      ]
     },
     "metadata": {},
     "output_type": "display_data"
    }
   ],
   "source": [
    "showPDF(countsplotprefix + 'codonmuttypes.pdf')"
   ]
  },
  {
   "cell_type": "markdown",
   "metadata": {},
   "source": [
    "Average mutation frequency per sample, stratifying by number of nucleotide changes per codon mutation:"
   ]
  },
  {
   "cell_type": "code",
   "execution_count": 21,
   "metadata": {},
   "outputs": [
    {
     "data": {
      "image/png": "[encoded data removed]",
      "text/plain": [
       "<IPython.core.display.Image object>"
      ]
     },
     "metadata": {},
     "output_type": "display_data"
    }
   ],
   "source": [
    "showPDF(countsplotprefix + 'codonntchanges.pdf')"
   ]
  },
  {
   "cell_type": "markdown",
   "metadata": {},
   "source": [
    "Per-codon mutation frequencies across all sites in gene for each sample:"
   ]
  },
  {
   "cell_type": "code",
   "execution_count": 22,
   "metadata": {
    "scrolled": false
   },
   "outputs": [
    {
     "data": {
      "image/png": "[encoded data removed]",
      "text/plain": [
       "<IPython.core.display.Image object>"
      ]
     },
     "metadata": {},
     "output_type": "display_data"
    }
   ],
   "source": [
    "showPDF(countsplotprefix + 'mutfreq.pdf')"
   ]
  },
  {
   "cell_type": "markdown",
   "metadata": {},
   "source": [
    "#### Check for oxidative damage\n",
    "Sometimes there is oxidative damage which manifests as an enrichment of `G`->`T` and `C`->`A` mutations among the single-nucleotide codon mutations.\n",
    "Check for this by plotting frequencies of different single-nucleotide mutation types:"
   ]
  },
  {
   "cell_type": "code",
   "execution_count": 23,
   "metadata": {},
   "outputs": [
    {
     "data": {
      "image/png": "[encoded data removed]",
      "text/plain": [
       "<IPython.core.display.Image object>"
      ]
     },
     "metadata": {},
     "output_type": "display_data"
    }
   ],
   "source": [
    "showPDF(countsplotprefix + 'singlentchanges.pdf')"
   ]
  },
  {
   "cell_type": "markdown",
   "metadata": {},
   "source": [
    "### Renumber to standard HA numbering\n",
    "The above alignments use sequential 1, 2, ... numbering of the codons.\n",
    "This is not the standard numbering scheme used for HA, so we use [dms_tools2.utils.renumbSites](https://jbloomlab.github.io/dms_tools2/dms_tools2.utils.html#dms_tools2.utils.renumberSites) to renumber to the standard HA numbering scheme:"
   ]
  },
  {
   "cell_type": "code",
   "execution_count": 24,
   "metadata": {},
   "outputs": [
    {
     "name": "stdout",
     "output_type": "stream",
     "text": [
      "Renumbered codon counts are in results/renumbered_codoncounts\n"
     ]
    }
   ],
   "source": [
    "dms_tools2.utils.renumberSites(\n",
    "    renumbfile=config['renumbering_scheme'],\n",
    "    infiles=list(config['countsdir'] + '/' + samples['sample'] +\n",
    "                 '_codoncounts.csv'),\n",
    "    missing='drop',\n",
    "    outdir=config['renumbcountsdir'])\n",
    "\n",
    "assert all(os.path.isfile(f) for f in\n",
    "           config['renumbcountsdir'] + '/' + samples['sample'] +\n",
    "           '_codoncounts.csv'\n",
    "           ), 'missing renumbered counts files'\n",
    "\n",
    "print(f\"Renumbered codon counts are in {config['renumbcountsdir']}\")"
   ]
  },
  {
   "cell_type": "markdown",
   "metadata": {
    "toc-hr-collapsed": false
   },
   "source": [
    "## Compute immune selection on mutations\n",
    "We will now determine the immune selection on each mutation by comparing its frequency in each serum-selected sample to an appropriate mock-selected control.\n",
    "Specifically, we will quantify the immune selection as the *differential selection (diffsel)*, which is essentially the log enrichment of each mutation relative to wildtype in the immune-selected versus mock sample.\n",
    "See [Doud et al (2017)](https://journals.plos.org/plospathogens/article?id=10.1371/journal.ppat.1006271) for the paper introducing this metric, and see [here](https://jbloomlab.github.io/dms_tools2/diffsel.html) for a more detailed description."
   ]
  },
  {
   "cell_type": "markdown",
   "metadata": {},
   "source": [
    "### Samples to compare for each selection\n",
    "In order to quantify the immune selection, we need to compare each selected sample to the appropriate controls.\n",
    "Specifically, for each selection, we define three samples:\n",
    " - *sel*: the immune-selected sample\n",
    " - *mock*: the appropriate mock-selected control for that date and library\n",
    " - *err*: the appropriate wildtype plasmid control to estimate sequencing error rates.\n",
    " \n",
    "We call each combination of three such samples a \"selection\".\n",
    "For each selection, we also record:\n",
    "  - *serum_name_formatted*: a version of *serum_name* that also indicates species if non-human\n",
    "  - *name*: a string indicating the library and the percent infectivity remaining. So for instance, *lib1-5* indicates library 1 with 5% infectivity remaining.\n",
    "  \n",
    "Below we construct the data frame with this information on the selections:"
   ]
  },
  {
   "cell_type": "code",
   "execution_count": 25,
   "metadata": {
    "scrolled": false
   },
   "outputs": [
    {
     "name": "stdout",
     "output_type": "stream",
     "text": [
      "Tabulated information for 8 selections:\n"
     ]
    },
    {
     "data": {
      "text/html": [
       "<table border=\"1\" class=\"dataframe\">\n",
       "  <thead>\n",
       "    <tr style=\"text-align: right;\">\n",
       "      <th>serum_name_formatted</th>\n",
       "      <th>name</th>\n",
       "      <th>sel</th>\n",
       "      <th>mock</th>\n",
       "      <th>err</th>\n",
       "      <th>serum</th>\n",
       "      <th>library</th>\n",
       "      <th>date</th>\n",
       "      <th>serum_dilution</th>\n",
       "      <th>percent_infectivity</th>\n",
       "      <th>serum_description</th>\n",
       "      <th>serum_group</th>\n",
       "      <th>serum_name</th>\n",
       "      <th>name_formatted</th>\n",
       "    </tr>\n",
       "  </thead>\n",
       "  <tbody>\n",
       "    <tr>\n",
       "      <td>HC070097</td>\n",
       "      <td>lib2-2.3</td>\n",
       "      <td>HC070097</td>\n",
       "      <td>Lib5mock</td>\n",
       "      <td>WTplasmid</td>\n",
       "      <td>HC070097</td>\n",
       "      <td>lib2</td>\n",
       "      <td>2019-06-06</td>\n",
       "      <td>0.0.001604</td>\n",
       "      <td>2.33</td>\n",
       "      <td>serum from OUCRU in Ho Chi Minh City, Vietnam</td>\n",
       "      <td>adult_high_bind</td>\n",
       "      <td>HC070097</td>\n",
       "      <td>lib2, 2.3% infectivity</td>\n",
       "    </tr>\n",
       "    <tr>\n",
       "      <td>HC070021</td>\n",
       "      <td>lib2-12</td>\n",
       "      <td>HC070021</td>\n",
       "      <td>Lib5mock</td>\n",
       "      <td>WTplasmid</td>\n",
       "      <td>HC070021</td>\n",
       "      <td>lib2</td>\n",
       "      <td>2019-06-06</td>\n",
       "      <td>0.0007648</td>\n",
       "      <td>12.33</td>\n",
       "      <td>serum from OUCRU in Ho Chi Minh City, Vietnam</td>\n",
       "      <td>child_high_bind</td>\n",
       "      <td>HC070021</td>\n",
       "      <td>lib2, 12% infectivity</td>\n",
       "    </tr>\n",
       "    <tr>\n",
       "      <td>HC070041</td>\n",
       "      <td>lib2-0.28</td>\n",
       "      <td>HC070041</td>\n",
       "      <td>Lib5mock</td>\n",
       "      <td>WTplasmid</td>\n",
       "      <td>HC070041</td>\n",
       "      <td>lib2</td>\n",
       "      <td>2019-06-06</td>\n",
       "      <td>0.003396</td>\n",
       "      <td>0.28</td>\n",
       "      <td>serum from OUCRU in Ho Chi Minh City, Vietnam</td>\n",
       "      <td>child_high_bind</td>\n",
       "      <td>HC070041</td>\n",
       "      <td>lib2, 0.28% infectivity</td>\n",
       "    </tr>\n",
       "    <tr>\n",
       "      <td>HC150036</td>\n",
       "      <td>lib2-5.2</td>\n",
       "      <td>HC150036</td>\n",
       "      <td>Lib5mock</td>\n",
       "      <td>WTplasmid</td>\n",
       "      <td>HC150036</td>\n",
       "      <td>lib2</td>\n",
       "      <td>2019-06-06</td>\n",
       "      <td>0.0024</td>\n",
       "      <td>5.18</td>\n",
       "      <td>serum from OUCRU in Ho Chi Minh City, Vietnam</td>\n",
       "      <td>child_high_bind</td>\n",
       "      <td>HC150036</td>\n",
       "      <td>lib2, 5.2% infectivity</td>\n",
       "    </tr>\n",
       "    <tr>\n",
       "      <td>HC150044</td>\n",
       "      <td>lib2-5.7</td>\n",
       "      <td>HC150044</td>\n",
       "      <td>Lib5mock</td>\n",
       "      <td>WTplasmid</td>\n",
       "      <td>HC150044</td>\n",
       "      <td>lib2</td>\n",
       "      <td>2019-06-06</td>\n",
       "      <td>0.00242</td>\n",
       "      <td>5.65</td>\n",
       "      <td>serum from OUCRU in Ho Chi Minh City, Vietnam</td>\n",
       "      <td>child_high_bind</td>\n",
       "      <td>HC150044</td>\n",
       "      <td>lib2, 5.7% infectivity</td>\n",
       "    </tr>\n",
       "    <tr>\n",
       "      <td>VIDD pool</td>\n",
       "      <td>lib2-9.5</td>\n",
       "      <td>VIDDpool</td>\n",
       "      <td>Lib5mock</td>\n",
       "      <td>WTplasmid</td>\n",
       "      <td>VIDDpool</td>\n",
       "      <td>lib2</td>\n",
       "      <td>2019-06-06</td>\n",
       "      <td>NaN</td>\n",
       "      <td>9.52</td>\n",
       "      <td>pooled Hutch VIDD samples (VIDD1, VIDD2, VIDD4, and VIDD5)</td>\n",
       "      <td>human</td>\n",
       "      <td>VIDD pool</td>\n",
       "      <td>lib2, 9.5% infectivity</td>\n",
       "    </tr>\n",
       "    <tr>\n",
       "      <td>2010-age-21</td>\n",
       "      <td>lib2-6.0</td>\n",
       "      <td>L5-VIDD1</td>\n",
       "      <td>Lib5mock-A</td>\n",
       "      <td>WTplasmid-B</td>\n",
       "      <td>VIDD1</td>\n",
       "      <td>lib2</td>\n",
       "      <td>2019-01-16</td>\n",
       "      <td>0.0045</td>\n",
       "      <td>5.95</td>\n",
       "      <td>collected at Hutch in 2/2010 from person born in 1989</td>\n",
       "      <td>VIDD_sera</td>\n",
       "      <td>2010-age-21</td>\n",
       "      <td>lib2, 6.0% infectivity</td>\n",
       "    </tr>\n",
       "    <tr>\n",
       "      <td>2009-age-53</td>\n",
       "      <td>lib2-2.0</td>\n",
       "      <td>L5-VIDD2</td>\n",
       "      <td>Lib5mock-A</td>\n",
       "      <td>WTplasmid-B</td>\n",
       "      <td>VIDD2</td>\n",
       "      <td>lib2</td>\n",
       "      <td>2019-01-16</td>\n",
       "      <td>0.00375</td>\n",
       "      <td>2.03</td>\n",
       "      <td>collected at Hutch in 1/2009 from person born in 1956</td>\n",
       "      <td>VIDD_sera</td>\n",
       "      <td>2009-age-53</td>\n",
       "      <td>lib2, 2.0% infectivity</td>\n",
       "    </tr>\n",
       "  </tbody>\n",
       "</table>"
      ],
      "text/plain": [
       "<IPython.core.display.HTML object>"
      ]
     },
     "metadata": {},
     "output_type": "display_data"
    }
   ],
   "source": [
    "selections = (\n",
    "\n",
    "    # get all immune selected (sel) samples\n",
    "    samples\n",
    "    .query('(serum != \"mock\") & (serum != \"plasmid\")')\n",
    "    .rename(columns={'sample': 'sel'})\n",
    "\n",
    "    # add mock sample for that date and library\n",
    "    .merge(samples\n",
    "           .query('serum == \"mock\"')\n",
    "           [['sample', 'library', 'date']]\n",
    "           .rename(columns={'sample': 'mock'})\n",
    "           )\n",
    "\n",
    "    # add plasmid sample as error control (err) for that date and library\n",
    "    .merge(samples\n",
    "           .query('serum == \"plasmid\"')\n",
    "           [['sample', 'library', 'date']]\n",
    "           .rename(columns={'sample': 'err'})\n",
    "           )\n",
    "\n",
    "    # add information about sera\n",
    "    .merge(sera, validate='many_to_one')\n",
    "\n",
    "    # add informative names for serum and samples\n",
    "    .assign(\n",
    "        serum_name_formatted=lambda x: x['serum_name'],\n",
    "        name_formatted=lambda x:\n",
    "            x['library'] + ', ' + x['percent_infectivity'].apply(\n",
    "                dms_tools2.utils.sigFigStr, nsig=2) + '% infectivity',\n",
    "        name=lambda x:\n",
    "            x['library'] + '-' + x['percent_infectivity'].apply(\n",
    "                dms_tools2.utils.sigFigStr, nsig=2)\n",
    "        )\n",
    "\n",
    "    # drop unneeded columns\n",
    "    .drop(['R1', 'R2', 'SRA_accession'], axis='columns', errors='ignore')\n",
    "\n",
    "    # re-order columns a bit so key ones are displayed first\n",
    "    .set_index(['serum_name_formatted', 'name', 'sel', 'mock', 'err'])\n",
    "    .reset_index()\n",
    "    )\n",
    "\n",
    "# make sure no duplicated serum / names\n",
    "assert len(selections) == len(selections.groupby(['serum_name_formatted',\n",
    "                                                  'name']))\n",
    "\n",
    "print(f\"Tabulated information for {len(selections)} selections:\")\n",
    "display(HTML(selections.to_html(index=False)))"
   ]
  },
  {
   "cell_type": "markdown",
   "metadata": {},
   "source": [
    "### Compute immune selection\n",
    "Now we run [dms2_batch_diffsel](https://jbloomlab.github.io/dms_tools2/dms2_batch_diffsel.html) to compute the immune selection.\n",
    "We then add to our `selections` data frame the name of the files holding the computed site (*site*) and mutation (*mut*) level selection for each sample.\n",
    "  \n",
    "The next cell does all of this:"
   ]
  },
  {
   "cell_type": "code",
   "execution_count": 26,
   "metadata": {},
   "outputs": [
    {
     "name": "stdout",
     "output_type": "stream",
     "text": [
      "Computing diffsel using dms2_batch_diffsel with command:\n",
      "dms2_batch_diffsel --summaryprefix summary --batchfile results/diffsel/batch.csv --outdir results/diffsel --indir results/renumbered_codoncounts --use_existing yes --ncpus 16\n",
      "Created 8 mutdiffsel files, adding to `selections` data frame in column mutdiffsel_file\n",
      "Created 8 sitediffsel files, adding to `selections` data frame in column sitediffsel_file\n"
     ]
    }
   ],
   "source": [
    "outdir = config['diffseldir']\n",
    "os.makedirs(outdir, exist_ok=True)\n",
    "\n",
    "# write batch file used by program\n",
    "batchfile = os.path.join(outdir, 'batch.csv')\n",
    "(selections\n",
    " .rename(columns={'serum_name_formatted': 'group'})\n",
    " .to_csv(batchfile, index=False)\n",
    " )\n",
    "\n",
    "cmds = ['dms2_batch_diffsel',\n",
    "        '--summaryprefix', 'summary',\n",
    "        '--batchfile', batchfile,\n",
    "        '--outdir', outdir,\n",
    "        '--indir', config['renumbcountsdir'],\n",
    "        '--use_existing', config['use_existing'],\n",
    "        '--ncpus', str(config['ncpus'])\n",
    "        ]\n",
    "\n",
    "print(f\"Computing diffsel using dms2_batch_diffsel with command:\\n{' '.join(cmds)}\")\n",
    "subprocess.check_output(cmds)\n",
    "\n",
    "selfilecols = []\n",
    "for selfile in ['mutdiffsel', 'sitediffsel']:\n",
    "    selfilecol = selfile + '_file'\n",
    "    selfilecols.append(selfilecol)\n",
    "    selections[selfilecol] = (outdir + '/' + selections['serum_name_formatted']\n",
    "                              + '-' + selections['name'] + '_' +\n",
    "                              selfile + '.csv')\n",
    "    assert all(selections[selfilecol].map(os.path.isfile)), 'missing files'\n",
    "    print(f\"Created {len(selections[selfilecol])} {selfile} files, adding to \"\n",
    "          f\"`selections` data frame in column {selfilecol}\")"
   ]
  },
  {
   "cell_type": "markdown",
   "metadata": {},
   "source": [
    "### Get all selection information in one data frame\n",
    "For further processing, we want to create a dataframe that holds all of the selection information at the site and mutation levels for all samples.\n",
    "We create such a dataframe, *sel_df*, by reading the files in *selections* into the data frame using [dms_tools2.diffsel.df_read_filecols](https://jbloomlab.github.io/dms_tools2/dms_tools2.diffsel.html#dms_tools2.diffsel.df_read_filecols):"
   ]
  },
  {
   "cell_type": "code",
   "execution_count": 27,
   "metadata": {},
   "outputs": [],
   "source": [
    "sel_df = (dms_tools2.diffsel.df_read_filecols(selections, selfilecols)\n",
    "          .drop(columns=selfilecols)\n",
    "          )"
   ]
  },
  {
   "cell_type": "markdown",
   "metadata": {},
   "source": [
    "Now *sel_df* is a very large data frame, but it has all the information we want to plot.\n",
    "Here are the first few rows:"
   ]
  },
  {
   "cell_type": "code",
   "execution_count": 28,
   "metadata": {},
   "outputs": [
    {
     "name": "stdout",
     "output_type": "stream",
     "text": [
      "sel_df has 90560 rows. Here are the first few:\n"
     ]
    },
    {
     "data": {
      "text/html": [
       "<table border=\"1\" class=\"dataframe\">\n",
       "  <thead>\n",
       "    <tr style=\"text-align: right;\">\n",
       "      <th>serum_name_formatted</th>\n",
       "      <th>name</th>\n",
       "      <th>sel</th>\n",
       "      <th>mock</th>\n",
       "      <th>err</th>\n",
       "      <th>serum</th>\n",
       "      <th>library</th>\n",
       "      <th>date</th>\n",
       "      <th>serum_dilution</th>\n",
       "      <th>percent_infectivity</th>\n",
       "      <th>serum_description</th>\n",
       "      <th>serum_group</th>\n",
       "      <th>serum_name</th>\n",
       "      <th>name_formatted</th>\n",
       "      <th>site</th>\n",
       "      <th>wildtype</th>\n",
       "      <th>mutation</th>\n",
       "      <th>mutdiffsel</th>\n",
       "      <th>abs_diffsel</th>\n",
       "      <th>positive_diffsel</th>\n",
       "      <th>negative_diffsel</th>\n",
       "      <th>max_diffsel</th>\n",
       "      <th>min_diffsel</th>\n",
       "      <th>isite</th>\n",
       "    </tr>\n",
       "  </thead>\n",
       "  <tbody>\n",
       "    <tr>\n",
       "      <td>HC070097</td>\n",
       "      <td>lib2-2.3</td>\n",
       "      <td>HC070097</td>\n",
       "      <td>Lib5mock</td>\n",
       "      <td>WTplasmid</td>\n",
       "      <td>HC070097</td>\n",
       "      <td>lib2</td>\n",
       "      <td>2019-06-06</td>\n",
       "      <td>0.0.001604</td>\n",
       "      <td>2.33</td>\n",
       "      <td>serum from OUCRU in Ho Chi Minh City, Vietnam</td>\n",
       "      <td>adult_high_bind</td>\n",
       "      <td>HC070097</td>\n",
       "      <td>lib2, 2.3% infectivity</td>\n",
       "      <td>119</td>\n",
       "      <td>E</td>\n",
       "      <td>R</td>\n",
       "      <td>4.940934</td>\n",
       "      <td>13.343483</td>\n",
       "      <td>12.910262</td>\n",
       "      <td>-0.433222</td>\n",
       "      <td>4.940934</td>\n",
       "      <td>-0.260085</td>\n",
       "      <td>134</td>\n",
       "    </tr>\n",
       "    <tr>\n",
       "      <td>HC070097</td>\n",
       "      <td>lib2-2.3</td>\n",
       "      <td>HC070097</td>\n",
       "      <td>Lib5mock</td>\n",
       "      <td>WTplasmid</td>\n",
       "      <td>HC070097</td>\n",
       "      <td>lib2</td>\n",
       "      <td>2019-06-06</td>\n",
       "      <td>0.0.001604</td>\n",
       "      <td>2.33</td>\n",
       "      <td>serum from OUCRU in Ho Chi Minh City, Vietnam</td>\n",
       "      <td>adult_high_bind</td>\n",
       "      <td>HC070097</td>\n",
       "      <td>lib2, 2.3% infectivity</td>\n",
       "      <td>119</td>\n",
       "      <td>E</td>\n",
       "      <td>G</td>\n",
       "      <td>2.661194</td>\n",
       "      <td>13.343483</td>\n",
       "      <td>12.910262</td>\n",
       "      <td>-0.433222</td>\n",
       "      <td>4.940934</td>\n",
       "      <td>-0.260085</td>\n",
       "      <td>134</td>\n",
       "    </tr>\n",
       "    <tr>\n",
       "      <td>HC070097</td>\n",
       "      <td>lib2-2.3</td>\n",
       "      <td>HC070097</td>\n",
       "      <td>Lib5mock</td>\n",
       "      <td>WTplasmid</td>\n",
       "      <td>HC070097</td>\n",
       "      <td>lib2</td>\n",
       "      <td>2019-06-06</td>\n",
       "      <td>0.0.001604</td>\n",
       "      <td>2.33</td>\n",
       "      <td>serum from OUCRU in Ho Chi Minh City, Vietnam</td>\n",
       "      <td>adult_high_bind</td>\n",
       "      <td>HC070097</td>\n",
       "      <td>lib2, 2.3% infectivity</td>\n",
       "      <td>119</td>\n",
       "      <td>E</td>\n",
       "      <td>T</td>\n",
       "      <td>2.638478</td>\n",
       "      <td>13.343483</td>\n",
       "      <td>12.910262</td>\n",
       "      <td>-0.433222</td>\n",
       "      <td>4.940934</td>\n",
       "      <td>-0.260085</td>\n",
       "      <td>134</td>\n",
       "    </tr>\n",
       "    <tr>\n",
       "      <td>HC070097</td>\n",
       "      <td>lib2-2.3</td>\n",
       "      <td>HC070097</td>\n",
       "      <td>Lib5mock</td>\n",
       "      <td>WTplasmid</td>\n",
       "      <td>HC070097</td>\n",
       "      <td>lib2</td>\n",
       "      <td>2019-06-06</td>\n",
       "      <td>0.0.001604</td>\n",
       "      <td>2.33</td>\n",
       "      <td>serum from OUCRU in Ho Chi Minh City, Vietnam</td>\n",
       "      <td>adult_high_bind</td>\n",
       "      <td>HC070097</td>\n",
       "      <td>lib2, 2.3% infectivity</td>\n",
       "      <td>119</td>\n",
       "      <td>E</td>\n",
       "      <td>K</td>\n",
       "      <td>0.811347</td>\n",
       "      <td>13.343483</td>\n",
       "      <td>12.910262</td>\n",
       "      <td>-0.433222</td>\n",
       "      <td>4.940934</td>\n",
       "      <td>-0.260085</td>\n",
       "      <td>134</td>\n",
       "    </tr>\n",
       "    <tr>\n",
       "      <td>HC070097</td>\n",
       "      <td>lib2-2.3</td>\n",
       "      <td>HC070097</td>\n",
       "      <td>Lib5mock</td>\n",
       "      <td>WTplasmid</td>\n",
       "      <td>HC070097</td>\n",
       "      <td>lib2</td>\n",
       "      <td>2019-06-06</td>\n",
       "      <td>0.0.001604</td>\n",
       "      <td>2.33</td>\n",
       "      <td>serum from OUCRU in Ho Chi Minh City, Vietnam</td>\n",
       "      <td>adult_high_bind</td>\n",
       "      <td>HC070097</td>\n",
       "      <td>lib2, 2.3% infectivity</td>\n",
       "      <td>119</td>\n",
       "      <td>E</td>\n",
       "      <td>D</td>\n",
       "      <td>0.666032</td>\n",
       "      <td>13.343483</td>\n",
       "      <td>12.910262</td>\n",
       "      <td>-0.433222</td>\n",
       "      <td>4.940934</td>\n",
       "      <td>-0.260085</td>\n",
       "      <td>134</td>\n",
       "    </tr>\n",
       "  </tbody>\n",
       "</table>"
      ],
      "text/plain": [
       "<IPython.core.display.HTML object>"
      ]
     },
     "metadata": {},
     "output_type": "display_data"
    }
   ],
   "source": [
    "print(f\"sel_df has {len(sel_df)} rows. Here are the first few:\")\n",
    "display(HTML(sel_df.head(n=5).to_html(index=False)))"
   ]
  },
  {
   "cell_type": "markdown",
   "metadata": {
    "toc-hr-collapsed": false
   },
   "source": [
    "## Analyze and plot immune selection"
   ]
  },
  {
   "cell_type": "markdown",
   "metadata": {
    "toc-hr-collapsed": false
   },
   "source": [
    "### Choose sample to retain for each serum\n",
    "For some serum, we have multiple samples.\n",
    "These include the samples from multiple library replicates, but sometimes also several samples for the same library replicate at different serum concentrations that yield different percent viral infectivity remaining.\n",
    "\n",
    "Which of these samples do we want to retain?\n",
    "We probably want just one sample per library (so we don't over-weight some libraries in our results), and we need to select the serum concentration (percent viral infectivity remaining) that is \"best\" in terms of giving reproducible results between replicates with maximal signal to noise."
   ]
  },
  {
   "cell_type": "markdown",
   "metadata": {},
   "source": [
    "#### Plot site-level selection for all samples\n",
    "We first plot the site-level selection for all samples.\n",
    "To do this, we look over all sites and use the `facet_plot` command of [dmslogo](https://jbloomlab.github.io/dmslogo/) to plot the site-level selection for all samples for each serum.\n",
    "We also compute the correlation between samples for each serum:"
   ]
  },
  {
   "cell_type": "code",
   "execution_count": 29,
   "metadata": {
    "scrolled": false
   },
   "outputs": [
    {
     "name": "stdout",
     "output_type": "stream",
     "text": [
      "\n",
      "\n",
      "******************* 2009-age-53 *******************\n"
     ]
    },
    {
     "data": {
      "image/png": "[encoded data removed]",
      "text/plain": [
       "<Figure size 525.981x302.4 with 1 Axes>"
      ]
     },
     "metadata": {},
     "output_type": "display_data"
    },
    {
     "data": {
      "text/html": [
       "<table border=\"1\" class=\"dataframe\">\n",
       "  <thead>\n",
       "    <tr style=\"text-align: right;\">\n",
       "      <th>sample</th>\n",
       "      <th>lib2, 2.0% infectivity</th>\n",
       "    </tr>\n",
       "    <tr>\n",
       "      <th>sample</th>\n",
       "      <th></th>\n",
       "    </tr>\n",
       "  </thead>\n",
       "  <tbody>\n",
       "    <tr>\n",
       "      <th>lib2, 2.0% infectivity</th>\n",
       "      <td>1.0</td>\n",
       "    </tr>\n",
       "  </tbody>\n",
       "</table>"
      ],
      "text/plain": [
       "<IPython.core.display.HTML object>"
      ]
     },
     "metadata": {},
     "output_type": "display_data"
    },
    {
     "name": "stdout",
     "output_type": "stream",
     "text": [
      "\n",
      "\n",
      "******************* 2010-age-21 *******************\n"
     ]
    },
    {
     "data": {
      "image/png": "[encoded data removed]",
      "text/plain": [
       "<Figure size 525.981x302.4 with 1 Axes>"
      ]
     },
     "metadata": {},
     "output_type": "display_data"
    },
    {
     "data": {
      "text/html": [
       "<table border=\"1\" class=\"dataframe\">\n",
       "  <thead>\n",
       "    <tr style=\"text-align: right;\">\n",
       "      <th>sample</th>\n",
       "      <th>lib2, 6.0% infectivity</th>\n",
       "    </tr>\n",
       "    <tr>\n",
       "      <th>sample</th>\n",
       "      <th></th>\n",
       "    </tr>\n",
       "  </thead>\n",
       "  <tbody>\n",
       "    <tr>\n",
       "      <th>lib2, 6.0% infectivity</th>\n",
       "      <td>1.0</td>\n",
       "    </tr>\n",
       "  </tbody>\n",
       "</table>"
      ],
      "text/plain": [
       "<IPython.core.display.HTML object>"
      ]
     },
     "metadata": {},
     "output_type": "display_data"
    },
    {
     "name": "stdout",
     "output_type": "stream",
     "text": [
      "\n",
      "\n",
      "******************* HC070021 *******************\n"
     ]
    },
    {
     "data": {
      "image/png": "[encoded data removed]",
      "text/plain": [
       "<Figure size 525.981x302.4 with 1 Axes>"
      ]
     },
     "metadata": {},
     "output_type": "display_data"
    },
    {
     "data": {
      "text/html": [
       "<table border=\"1\" class=\"dataframe\">\n",
       "  <thead>\n",
       "    <tr style=\"text-align: right;\">\n",
       "      <th>sample</th>\n",
       "      <th>lib2, 12% infectivity</th>\n",
       "    </tr>\n",
       "    <tr>\n",
       "      <th>sample</th>\n",
       "      <th></th>\n",
       "    </tr>\n",
       "  </thead>\n",
       "  <tbody>\n",
       "    <tr>\n",
       "      <th>lib2, 12% infectivity</th>\n",
       "      <td>1.0</td>\n",
       "    </tr>\n",
       "  </tbody>\n",
       "</table>"
      ],
      "text/plain": [
       "<IPython.core.display.HTML object>"
      ]
     },
     "metadata": {},
     "output_type": "display_data"
    },
    {
     "name": "stdout",
     "output_type": "stream",
     "text": [
      "\n",
      "\n",
      "******************* HC070041 *******************\n"
     ]
    },
    {
     "data": {
      "image/png": "[encoded data removed]",
      "text/plain": [
       "<Figure size 525.981x302.4 with 1 Axes>"
      ]
     },
     "metadata": {},
     "output_type": "display_data"
    },
    {
     "data": {
      "text/html": [
       "<table border=\"1\" class=\"dataframe\">\n",
       "  <thead>\n",
       "    <tr style=\"text-align: right;\">\n",
       "      <th>sample</th>\n",
       "      <th>lib2, 0.28% infectivity</th>\n",
       "    </tr>\n",
       "    <tr>\n",
       "      <th>sample</th>\n",
       "      <th></th>\n",
       "    </tr>\n",
       "  </thead>\n",
       "  <tbody>\n",
       "    <tr>\n",
       "      <th>lib2, 0.28% infectivity</th>\n",
       "      <td>1.0</td>\n",
       "    </tr>\n",
       "  </tbody>\n",
       "</table>"
      ],
      "text/plain": [
       "<IPython.core.display.HTML object>"
      ]
     },
     "metadata": {},
     "output_type": "display_data"
    },
    {
     "name": "stdout",
     "output_type": "stream",
     "text": [
      "\n",
      "\n",
      "******************* HC070097 *******************\n"
     ]
    },
    {
     "data": {
      "image/png": "[encoded data removed]",
      "text/plain": [
       "<Figure size 525.981x302.4 with 1 Axes>"
      ]
     },
     "metadata": {},
     "output_type": "display_data"
    },
    {
     "data": {
      "text/html": [
       "<table border=\"1\" class=\"dataframe\">\n",
       "  <thead>\n",
       "    <tr style=\"text-align: right;\">\n",
       "      <th>sample</th>\n",
       "      <th>lib2, 2.3% infectivity</th>\n",
       "    </tr>\n",
       "    <tr>\n",
       "      <th>sample</th>\n",
       "      <th></th>\n",
       "    </tr>\n",
       "  </thead>\n",
       "  <tbody>\n",
       "    <tr>\n",
       "      <th>lib2, 2.3% infectivity</th>\n",
       "      <td>1.0</td>\n",
       "    </tr>\n",
       "  </tbody>\n",
       "</table>"
      ],
      "text/plain": [
       "<IPython.core.display.HTML object>"
      ]
     },
     "metadata": {},
     "output_type": "display_data"
    },
    {
     "name": "stdout",
     "output_type": "stream",
     "text": [
      "\n",
      "\n",
      "******************* HC150036 *******************\n"
     ]
    },
    {
     "data": {
      "image/png": "[encoded data removed]",
      "text/plain": [
       "<Figure size 525.981x302.4 with 1 Axes>"
      ]
     },
     "metadata": {},
     "output_type": "display_data"
    },
    {
     "data": {
      "text/html": [
       "<table border=\"1\" class=\"dataframe\">\n",
       "  <thead>\n",
       "    <tr style=\"text-align: right;\">\n",
       "      <th>sample</th>\n",
       "      <th>lib2, 5.2% infectivity</th>\n",
       "    </tr>\n",
       "    <tr>\n",
       "      <th>sample</th>\n",
       "      <th></th>\n",
       "    </tr>\n",
       "  </thead>\n",
       "  <tbody>\n",
       "    <tr>\n",
       "      <th>lib2, 5.2% infectivity</th>\n",
       "      <td>1.0</td>\n",
       "    </tr>\n",
       "  </tbody>\n",
       "</table>"
      ],
      "text/plain": [
       "<IPython.core.display.HTML object>"
      ]
     },
     "metadata": {},
     "output_type": "display_data"
    },
    {
     "name": "stdout",
     "output_type": "stream",
     "text": [
      "\n",
      "\n",
      "******************* HC150044 *******************\n"
     ]
    },
    {
     "data": {
      "image/png": "[encoded data removed]",
      "text/plain": [
       "<Figure size 525.981x302.4 with 1 Axes>"
      ]
     },
     "metadata": {},
     "output_type": "display_data"
    },
    {
     "data": {
      "text/html": [
       "<table border=\"1\" class=\"dataframe\">\n",
       "  <thead>\n",
       "    <tr style=\"text-align: right;\">\n",
       "      <th>sample</th>\n",
       "      <th>lib2, 5.7% infectivity</th>\n",
       "    </tr>\n",
       "    <tr>\n",
       "      <th>sample</th>\n",
       "      <th></th>\n",
       "    </tr>\n",
       "  </thead>\n",
       "  <tbody>\n",
       "    <tr>\n",
       "      <th>lib2, 5.7% infectivity</th>\n",
       "      <td>1.0</td>\n",
       "    </tr>\n",
       "  </tbody>\n",
       "</table>"
      ],
      "text/plain": [
       "<IPython.core.display.HTML object>"
      ]
     },
     "metadata": {},
     "output_type": "display_data"
    },
    {
     "name": "stdout",
     "output_type": "stream",
     "text": [
      "\n",
      "\n",
      "******************* VIDD pool *******************\n"
     ]
    },
    {
     "data": {
      "image/png": "[encoded data removed]",
      "text/plain": [
       "<Figure size 525.981x302.4 with 1 Axes>"
      ]
     },
     "metadata": {},
     "output_type": "display_data"
    },
    {
     "data": {
      "text/html": [
       "<table border=\"1\" class=\"dataframe\">\n",
       "  <thead>\n",
       "    <tr style=\"text-align: right;\">\n",
       "      <th>sample</th>\n",
       "      <th>lib2, 9.5% infectivity</th>\n",
       "    </tr>\n",
       "    <tr>\n",
       "      <th>sample</th>\n",
       "      <th></th>\n",
       "    </tr>\n",
       "  </thead>\n",
       "  <tbody>\n",
       "    <tr>\n",
       "      <th>lib2, 9.5% infectivity</th>\n",
       "      <td>1.0</td>\n",
       "    </tr>\n",
       "  </tbody>\n",
       "</table>"
      ],
      "text/plain": [
       "<IPython.core.display.HTML object>"
      ]
     },
     "metadata": {},
     "output_type": "display_data"
    }
   ],
   "source": [
    "for serum_name, serum_sel_df in sel_df.groupby('serum_name_formatted'):\n",
    "\n",
    "    print(f\"\\n\\n******************* {serum_name} *******************\")\n",
    "\n",
    "    fig, ax = dmslogo.facet_plot(\n",
    "                serum_sel_df,\n",
    "                x_col='isite',\n",
    "                gridcol_col='name_formatted',\n",
    "                show_col=None,\n",
    "                wspace=0.6,\n",
    "                draw_line_kwargs=dict(\n",
    "                        xtick_col='site',\n",
    "                        height_col='positive_diffsel',\n",
    "                        ylabel='positive_diffsel',\n",
    "                        )\n",
    "                )\n",
    "    display(fig)\n",
    "    plt.close(fig)\n",
    "\n",
    "    corr_df = (serum_sel_df\n",
    "               .rename(columns={'name_formatted': 'sample'})\n",
    "               .pivot_table(values='positive_diffsel',\n",
    "                            columns='sample',\n",
    "                            index=['site'])\n",
    "               .corr()\n",
    "               .round(3)\n",
    "               )\n",
    "    display(HTML(corr_df.to_html()))"
   ]
  },
  {
   "cell_type": "markdown",
   "metadata": {},
   "source": [
    "#### Choose samples to retain based on infectivity remaining\n",
    "From the plots and correlations immediately above, several things are apparent:\n",
    " 1. Different samples with the **same** virus library tend to be substantially more correlated than samples between different virus libraries.\n",
    "    This makes sense, as some of the noise probably comes from library composition differences in terms of variant abundance.\n",
    "    This fact implies that we want to keep just one (or the same number) of samples from each library, so that when we take means / medians across samples they are not disproportionately influenced by a single library.\n",
    " 2. The \"best\" concentration of serum appears to be one that leaves about about 1% to 5% of the viral infectivity remaining. \n",
    "    This is judged by the fact that samples with this percent infectivity remaining tend to look \"cleanest\" in the line plots of site differential selection, and also tend to correlate best with samples from another library.\n",
    "    \n",
    "Based on the above, we will filter our samples down to those that have closest to the target amount of viral infectivity remaining.\n",
    "Because we qualitatively estimated above that the best results are obtained when between 1% to 5% of infectivity is remaining, we will target 2% infectivity.\n",
    "Then for any library / serum with multiple samples, we will retain the one that is closest (in log space) to that target infectivity.\n",
    "We do this in log space because in linear space, 0% infectivity would be closer to 2% infectivity as would 6% infectivity--even though the latter is clearly preferable if our target is 2%."
   ]
  },
  {
   "cell_type": "code",
   "execution_count": 30,
   "metadata": {},
   "outputs": [
    {
     "name": "stdout",
     "output_type": "stream",
     "text": [
      "Choosing samples closest to 2.00% infectivity.\n"
     ]
    }
   ],
   "source": [
    "target_infectivity = 2\n",
    "print(f\"Choosing samples closest to {target_infectivity:.2f}% infectivity.\")"
   ]
  },
  {
   "cell_type": "markdown",
   "metadata": {},
   "source": [
    "Mark the samples to retain by adding a *retained* column to both the *selections* and *sel_df* data frames, and flagging it as *True* only for the sample for that serum and library that has the smallest log-space distance to the target infectivity:"
   ]
  },
  {
   "cell_type": "code",
   "execution_count": 31,
   "metadata": {},
   "outputs": [
    {
     "name": "stdout",
     "output_type": "stream",
     "text": [
      "Retaining 8 of 8\n"
     ]
    }
   ],
   "source": [
    "selections = (\n",
    "    selections\n",
    "    .assign(retained=lambda x: x.assign(dist=lambda y: (y.percent_infectivity /\n",
    "                                                        target_infectivity)\n",
    "                                        .apply(math.log).apply(abs))\n",
    "            .groupby(['serum_name_formatted', 'library'])\n",
    "            ['dist']\n",
    "            .transform(lambda y: y <= y.min())\n",
    "            )\n",
    "    )\n",
    "print(f\"Retaining {len(selections.query('retained'))} of {len(selections)}\")\n",
    "\n",
    "sel_df = sel_df.merge(selections[['serum_name_formatted', 'name', 'retained']],\n",
    "                      validate='many_to_one')"
   ]
  },
  {
   "cell_type": "markdown",
   "metadata": {},
   "source": [
    "Plot the samples to retain and their percent infectivity.\n",
    "In the plot below, the dashed horizontal line indicates the target percent infectivity, and the colors of the points indicate which sample we retained for each serum / library:"
   ]
  },
  {
   "cell_type": "code",
   "execution_count": 32,
   "metadata": {},
   "outputs": [
    {
     "data": {
      "image/png": "[encoded data removed]",
      "text/plain": [
       "<Figure size 200x250 with 1 Axes>"
      ]
     },
     "metadata": {},
     "output_type": "display_data"
    }
   ],
   "source": [
    "p = (ggplot(selections.assign(xlabel=lambda x: (x['serum_name_formatted'] +\n",
    "                                                ', ' + x['library'])),\n",
    "               aes('xlabel', 'percent_infectivity', color='retained')) +\n",
    "     geom_point(size=3, alpha=0.7) +\n",
    "     theme(\n",
    "         axis_text_x=element_text(angle=90),\n",
    "         figure_size=(0.25 * len(selections.groupby(['serum_name_formatted',\n",
    "                                                     'library'])), 2.5)\n",
    "         ) +\n",
    "     scale_y_log10(name='percent infectivity') +\n",
    "     xlab('') +\n",
    "     scale_color_manual(values=PALETTE) +\n",
    "     geom_hline(yintercept=target_infectivity, linetype='dashed',\n",
    "                   alpha=0.7, color=PALETTE[2])\n",
    "     )\n",
    "\n",
    "_ = p.draw()"
   ]
  },
  {
   "cell_type": "markdown",
   "metadata": {},
   "source": [
    "#### Retained samples, percent infectivity, and serum/antibody concentration\n",
    "Here is a small table listing the samples that we retained for each serum and\n",
    " 1. The percent infectivity remaining\n",
    " 2. The serum or antibody concentration. \n",
    "    For sera, this is the dilution of the serum.\n",
    "    For antibodies, this is the antibody concentration in $\\mu$g/ml.\n",
    "    For antibody+serum mixes, this is the serum dilution followed by the antibody concentration in $\\mu$g/ml."
   ]
  },
  {
   "cell_type": "code",
   "execution_count": 33,
   "metadata": {},
   "outputs": [
    {
     "name": "stdout",
     "output_type": "stream",
     "text": [
      "\n",
      "************* percent_infectivity for each replicate *************\n"
     ]
    },
    {
     "data": {
      "text/html": [
       "<table border=\"1\" class=\"dataframe\">\n",
       "  <thead>\n",
       "    <tr style=\"text-align: right;\">\n",
       "      <th></th>\n",
       "      <th>library</th>\n",
       "      <th>lib2</th>\n",
       "    </tr>\n",
       "    <tr>\n",
       "      <th>serum_group</th>\n",
       "      <th>serum_name_formatted</th>\n",
       "      <th></th>\n",
       "    </tr>\n",
       "  </thead>\n",
       "  <tbody>\n",
       "    <tr>\n",
       "      <th rowspan=\"2\" valign=\"top\">VIDD_sera</th>\n",
       "      <th>2009-age-53</th>\n",
       "      <td>2.03</td>\n",
       "    </tr>\n",
       "    <tr>\n",
       "      <th>2010-age-21</th>\n",
       "      <td>5.95</td>\n",
       "    </tr>\n",
       "    <tr>\n",
       "      <th>adult_high_bind</th>\n",
       "      <th>HC070097</th>\n",
       "      <td>2.33</td>\n",
       "    </tr>\n",
       "    <tr>\n",
       "      <th rowspan=\"4\" valign=\"top\">child_high_bind</th>\n",
       "      <th>HC070021</th>\n",
       "      <td>12.33</td>\n",
       "    </tr>\n",
       "    <tr>\n",
       "      <th>HC070041</th>\n",
       "      <td>0.28</td>\n",
       "    </tr>\n",
       "    <tr>\n",
       "      <th>HC150036</th>\n",
       "      <td>5.18</td>\n",
       "    </tr>\n",
       "    <tr>\n",
       "      <th>HC150044</th>\n",
       "      <td>5.65</td>\n",
       "    </tr>\n",
       "    <tr>\n",
       "      <th>human</th>\n",
       "      <th>VIDD pool</th>\n",
       "      <td>9.52</td>\n",
       "    </tr>\n",
       "  </tbody>\n",
       "</table>"
      ],
      "text/plain": [
       "<IPython.core.display.HTML object>"
      ]
     },
     "metadata": {},
     "output_type": "display_data"
    },
    {
     "name": "stdout",
     "output_type": "stream",
     "text": [
      "Writing to results/selection_tables/percent_infectivity_table.csv\n",
      "\n",
      "************* serum_dilution for each replicate *************\n"
     ]
    },
    {
     "data": {
      "text/html": [
       "<table border=\"1\" class=\"dataframe\">\n",
       "  <thead>\n",
       "    <tr style=\"text-align: right;\">\n",
       "      <th></th>\n",
       "      <th>library</th>\n",
       "      <th>lib2</th>\n",
       "    </tr>\n",
       "    <tr>\n",
       "      <th>serum_group</th>\n",
       "      <th>serum_name_formatted</th>\n",
       "      <th></th>\n",
       "    </tr>\n",
       "  </thead>\n",
       "  <tbody>\n",
       "    <tr>\n",
       "      <th rowspan=\"2\" valign=\"top\">VIDD_sera</th>\n",
       "      <th>2009-age-53</th>\n",
       "      <td>0.00375</td>\n",
       "    </tr>\n",
       "    <tr>\n",
       "      <th>2010-age-21</th>\n",
       "      <td>0.0045</td>\n",
       "    </tr>\n",
       "    <tr>\n",
       "      <th>adult_high_bind</th>\n",
       "      <th>HC070097</th>\n",
       "      <td>0.0.001604</td>\n",
       "    </tr>\n",
       "    <tr>\n",
       "      <th rowspan=\"4\" valign=\"top\">child_high_bind</th>\n",
       "      <th>HC070021</th>\n",
       "      <td>0.0007648</td>\n",
       "    </tr>\n",
       "    <tr>\n",
       "      <th>HC070041</th>\n",
       "      <td>0.003396</td>\n",
       "    </tr>\n",
       "    <tr>\n",
       "      <th>HC150036</th>\n",
       "      <td>0.0024</td>\n",
       "    </tr>\n",
       "    <tr>\n",
       "      <th>HC150044</th>\n",
       "      <td>0.00242</td>\n",
       "    </tr>\n",
       "    <tr>\n",
       "      <th>human</th>\n",
       "      <th>VIDD pool</th>\n",
       "      <td>nan</td>\n",
       "    </tr>\n",
       "  </tbody>\n",
       "</table>"
      ],
      "text/plain": [
       "<IPython.core.display.HTML object>"
      ]
     },
     "metadata": {},
     "output_type": "display_data"
    },
    {
     "name": "stdout",
     "output_type": "stream",
     "text": [
      "Writing to results/selection_tables/serum_dilution_table.csv\n"
     ]
    }
   ],
   "source": [
    "os.makedirs(config['selectiontabledir'], exist_ok=True)\n",
    "\n",
    "for valtype in ['percent_infectivity', 'serum_dilution']:\n",
    "    table = (selections\n",
    "             .assign(serum_name=lambda x:\n",
    "                     pd.Categorical(x['serum_name'],\n",
    "                                    sera['serum_name'],\n",
    "                                    ordered=True))\n",
    "             .query('retained')\n",
    "             .sort_values('serum_name')\n",
    "             [['serum_group', 'serum_name_formatted', 'library', valtype]]\n",
    "             .pivot_table(index=['serum_group', 'serum_name_formatted'],\n",
    "                          columns='library',\n",
    "                          values=valtype,\n",
    "                          aggfunc=lambda x: ' '.join(str(v) for v in x))\n",
    "             )\n",
    "    print(f\"\\n************* {valtype} for each replicate *************\")\n",
    "    display(HTML(table.to_html()))\n",
    "    table_file = os.path.join(config['selectiontabledir'], f\"{valtype}_table.csv\")\n",
    "    print(f\"Writing to {table_file}\")\n",
    "    table.to_csv(table_file)"
   ]
  },
  {
   "cell_type": "markdown",
   "metadata": {
    "toc-hr-collapsed": true
   },
   "source": [
    "### Compute serum average from retained samples\n",
    "We now compute the average selection among the retained samples for each serum.\n",
    "\n",
    "First, confirm that we have retained just one sample per serum / library:"
   ]
  },
  {
   "cell_type": "code",
   "execution_count": 34,
   "metadata": {},
   "outputs": [],
   "source": [
    "assert all(len(group) == 1 for _, group in\n",
    "           (selections\n",
    "            .query('retained')\n",
    "            .groupby(['serum_name_formatted', 'library'])\n",
    "            )\n",
    "           )"
   ]
  },
  {
   "cell_type": "markdown",
   "metadata": {},
   "source": [
    "We can compute the \"average\" selection using either the mean or the median; which one to use is specified in the config file:"
   ]
  },
  {
   "cell_type": "code",
   "execution_count": 35,
   "metadata": {},
   "outputs": [
    {
     "name": "stdout",
     "output_type": "stream",
     "text": [
      "Computing across replicate averages as the median\n"
     ]
    }
   ],
   "source": [
    "avg_type = config['avg_type']\n",
    "print(f\"Computing across replicate averages as the {avg_type}\")"
   ]
  },
  {
   "cell_type": "markdown",
   "metadata": {},
   "source": [
    "Do a sanity check and make sure none of our libraries are named the same as the average type:"
   ]
  },
  {
   "cell_type": "code",
   "execution_count": 36,
   "metadata": {},
   "outputs": [],
   "source": [
    "assert all(avg_type not in selections[col].values for col in ['library', 'name_formatted'])"
   ]
  },
  {
   "cell_type": "markdown",
   "metadata": {},
   "source": [
    "Now loop over all sera and compute the average selection for all retained samples for that sera.\n",
    "Note that the averages are computed on the mutation-level data, and then the site data are computed from those averaged mutation-level data.\n",
    "The averages (along with the samples used to compute these averages) are then added to a new data frame similar to *selections* that is called *avg_selections*:"
   ]
  },
  {
   "cell_type": "code",
   "execution_count": 37,
   "metadata": {},
   "outputs": [],
   "source": [
    "avgdir = config['avgdiffseldir']\n",
    "os.makedirs(avgdir, exist_ok=True)\n",
    "\n",
    "avg_selections = []\n",
    "for serum_name_formatted, group in (\n",
    "            selections\n",
    "            .query('retained')\n",
    "            [['serum_name_formatted', 'library', 'name_formatted'] +\n",
    "             list(sera.columns) + selfilecols]\n",
    "            .groupby('serum_name_formatted')\n",
    "            ):\n",
    "\n",
    "    avg_selections.append(group)\n",
    "\n",
    "    # build row of data frame with average\n",
    "    avg_row = group.iloc[0].to_dict(into=collections.OrderedDict)\n",
    "    avg_row['library'] = avg_type\n",
    "    avg_row['name_formatted'] = avg_type\n",
    "\n",
    "    avg_row['mutdiffsel_file'] = (f\"{avgdir}/{serum_name_formatted}-\"\n",
    "                                  f\"mutdiffsel-{avg_type}.csv\")\n",
    "    (dms_tools2.diffsel.avgMutDiffSel(group['mutdiffsel_file'], avg_type)\n",
    "     .to_csv(avg_row['mutdiffsel_file'], index=False))\n",
    "\n",
    "    avg_row['sitediffsel_file'] = (f\"{avgdir}/{serum_name_formatted}-\"\n",
    "                                   f\"sitediffsel-{avg_type}.csv\")\n",
    "    (dms_tools2.diffsel.mutToSiteDiffSel(pd.read_csv(avg_row['mutdiffsel_file']))\n",
    "     .to_csv(avg_row['sitediffsel_file'], index=False))\n",
    "\n",
    "    avg_row = pd.Series(avg_row).to_frame().transpose()\n",
    "    assert all(avg_row.columns == group.columns)\n",
    "    avg_selections.append(avg_row)\n",
    "\n",
    "# put avg_selections in data frame, sort to match config['sera']\n",
    "avg_selections = (pd.concat(avg_selections)\n",
    "                  .assign(serum_name=lambda x:\n",
    "                          pd.Categorical(x['serum_name'],\n",
    "                                         sera['serum_name'],\n",
    "                                         ordered=True))\n",
    "                  .sort_values(['serum_name', 'library'])\n",
    "                  .assign(serum_name_formatted=lambda x:\n",
    "                          pd.Categorical(x['serum_name_formatted'],\n",
    "                                         x['serum_name_formatted'].unique(),\n",
    "                                         ordered=True))\n",
    "                  .reset_index(drop=True)\n",
    "                  )"
   ]
  },
  {
   "cell_type": "markdown",
   "metadata": {},
   "source": [
    "Now the `avg_selections` data frame lists the files giving all the retained library replicates plus the average calculated from them these replicates."
   ]
  },
  {
   "cell_type": "markdown",
   "metadata": {},
   "source": [
    "Now we create the data frame `avg_sel_df` which actually holds the site- and mutation-level averages for all sera as well as the samples (one replicate per library) that we used to compute these averages:"
   ]
  },
  {
   "cell_type": "code",
   "execution_count": 38,
   "metadata": {},
   "outputs": [],
   "source": [
    "avg_sel_df = (dms_tools2.diffsel.df_read_filecols(avg_selections, selfilecols)\n",
    "              .drop(columns=selfilecols)\n",
    "              # preserve order of sera as in `avg_selections`\n",
    "              .assign(serum_name_formatted=lambda x:\n",
    "                      pd.Categorical(x['serum_name_formatted'],\n",
    "                                     (avg_selections['serum_name_formatted']\n",
    "                                      .unique()),\n",
    "                                     ordered=True))\n",
    "              )"
   ]
  },
  {
   "cell_type": "markdown",
   "metadata": {},
   "source": [
    "This `avg_sel_df` data frame differs from `sel_df` only in that it includes the averages as a library type, and only has the retained replicates for each library."
   ]
  },
  {
   "cell_type": "markdown",
   "metadata": {},
   "source": [
    "### Identify sites of \"significant\" selection\n",
    "We want to identify the sites that are under \"significant\" immune selection.\n",
    "The reason is that we can then zoom in on these sites in logo plots.\n",
    "\n",
    "In [dms_tools2.plot.findSigSel](https://jbloomlab.github.io/dms_tools2/dms_tools2.plot.html#dms_tools2.plot.findSigSel) function, we have implemented a heuristic way to do this.\n",
    "Essentially, this function fits a gamma distribution to the selection values for each site, and then identifies those that are \"outliers\" of high selection."
   ]
  },
  {
   "cell_type": "markdown",
   "metadata": {},
   "source": [
    "#### Cutoff for significance\n",
    "First, we define a cutoff for what constitutes significant:"
   ]
  },
  {
   "cell_type": "code",
   "execution_count": 39,
   "metadata": {},
   "outputs": [],
   "source": [
    "fdr_cutoff = 0.05"
   ]
  },
  {
   "cell_type": "markdown",
   "metadata": {},
   "source": [
    "#### Identify significant sites\n",
    "Now we use [dms_tools2.plot.findSigSel](https://jbloomlab.github.io/dms_tools2/dms_tools2.plot.html#dms_tools2.plot.findSigSel) to get a dataframe (`sigsites_df`) that lists the \"significant\" sites for each serum.\n",
    "That function finds these sites by fitting a gamma distribution to the data and then finding sites that are far outside the range of the distribution (thereby computing a heuristic P-value).\n",
    "It has two methods, *robust_hist* and *mle*; we use both and take any sites found by either method.\n",
    "\n",
    "Because the pre-vaccination and pre-infection serum generally have weak signal and the vaccination at most boosts existing specificities in the human samples that we have, we will ignore the pre-vaccination samples when identifying significant sites.\n",
    "\n",
    "The cell below also saves plots showing the fit gamma distribution (you can inspect these separately if you want to look in more detail):"
   ]
  },
  {
   "cell_type": "code",
   "execution_count": 40,
   "metadata": {},
   "outputs": [
    {
     "name": "stdout",
     "output_type": "stream",
     "text": [
      "Identifying sites of significant selection at a FDR of 0.05.\n",
      "Plots of distribution fitting saved as results/avgdiffsel/sigsites/sigsites_{serum}_{method}.pdf\n",
      "Here are the first few rows of sigsites_df:\n"
     ]
    },
    {
     "data": {
      "text/html": [
       "<table border=\"1\" class=\"dataframe\">\n",
       "  <thead>\n",
       "    <tr style=\"text-align: right;\">\n",
       "      <th>serum_group</th>\n",
       "      <th>serum_name_formatted</th>\n",
       "      <th>isite</th>\n",
       "      <th>site</th>\n",
       "      <th>positive_diffsel</th>\n",
       "      <th>sig</th>\n",
       "    </tr>\n",
       "  </thead>\n",
       "  <tbody>\n",
       "    <tr>\n",
       "      <td>VIDD_sera</td>\n",
       "      <td>2010-age-21</td>\n",
       "      <td>237</td>\n",
       "      <td>222</td>\n",
       "      <td>25.297153</td>\n",
       "      <td>True</td>\n",
       "    </tr>\n",
       "    <tr>\n",
       "      <td>VIDD_sera</td>\n",
       "      <td>2009-age-53</td>\n",
       "      <td>172</td>\n",
       "      <td>157</td>\n",
       "      <td>18.113899</td>\n",
       "      <td>True</td>\n",
       "    </tr>\n",
       "    <tr>\n",
       "      <td>child_high_bind</td>\n",
       "      <td>HC070021</td>\n",
       "      <td>360</td>\n",
       "      <td>(HA2)16</td>\n",
       "      <td>24.936383</td>\n",
       "      <td>True</td>\n",
       "    </tr>\n",
       "  </tbody>\n",
       "</table>"
      ],
      "text/plain": [
       "<IPython.core.display.HTML object>"
      ]
     },
     "metadata": {},
     "output_type": "display_data"
    }
   ],
   "source": [
    "os.makedirs(config['avgdiffsel_sigsites_dir'], exist_ok=True)\n",
    "\n",
    "plotfile_template = os.path.join(config['avgdiffsel_sigsites_dir'],\n",
    "                                 'sigsites_{serum}_{method}.pdf')\n",
    "\n",
    "print(f\"Identifying sites of significant selection at a FDR of {fdr_cutoff}.\\n\"\n",
    "      f\"Plots of distribution fitting saved as {plotfile_template}\")\n",
    "\n",
    "sigsites_df = []\n",
    "sigsites_cols = ['serum_group', 'serum_name_formatted', 'isite', 'site',\n",
    "                 'positive_diffsel']\n",
    "for serum_name_formatted, group in (\n",
    "        avg_sel_df\n",
    "        .query('library == @avg_type')\n",
    "        [sigsites_cols]\n",
    "        .drop_duplicates()\n",
    "        .groupby('serum_name_formatted', observed=True)\n",
    "        ):\n",
    "    \n",
    "    for method in ['robust_hist', 'mle']:\n",
    "        plotfile = plotfile_template.format(serum=serum_name_formatted,\n",
    "                                            method=method)\n",
    "        df, _, _ = dms_tools2.plot.findSigSel(\n",
    "                group,\n",
    "                'positive_diffsel',\n",
    "                plotfile,\n",
    "                fdr=fdr_cutoff,\n",
    "                title=serum_name_formatted,\n",
    "                method=method\n",
    "                )\n",
    "        sigsites_df.append(df)\n",
    "\n",
    "sigsites_df = (pd.concat(sigsites_df, ignore_index=True)\n",
    "               .groupby(sigsites_cols)\n",
    "               .aggregate({'sig': 'sum'})\n",
    "               .reset_index()\n",
    "               .assign(sig=lambda x: x['sig'].astype(bool))\n",
    "               .query('sig')\n",
    "               )\n",
    "\n",
    "print('Here are the first few rows of sigsites_df:')\n",
    "display(HTML(sigsites_df.head(n=4).to_html(index=False)))"
   ]
  },
  {
   "cell_type": "markdown",
   "metadata": {},
   "source": [
    "#### List significant sites for each serum\n",
    "Now display lists of the significant sites for each serum (we did not determine significant sites for pre-vaccination samples as described above):"
   ]
  },
  {
   "cell_type": "code",
   "execution_count": 41,
   "metadata": {},
   "outputs": [
    {
     "data": {
      "text/html": [
       "<table border=\"1\" class=\"dataframe\">\n",
       "  <thead>\n",
       "    <tr style=\"text-align: right;\">\n",
       "      <th></th>\n",
       "      <th>significant sites</th>\n",
       "      <th>number of sites</th>\n",
       "    </tr>\n",
       "    <tr>\n",
       "      <th>serum_name_formatted</th>\n",
       "      <th></th>\n",
       "      <th></th>\n",
       "    </tr>\n",
       "  </thead>\n",
       "  <tbody>\n",
       "    <tr>\n",
       "      <th>HC070097</th>\n",
       "      <td></td>\n",
       "      <td>0</td>\n",
       "    </tr>\n",
       "    <tr>\n",
       "      <th>HC070021</th>\n",
       "      <td>(HA2)16</td>\n",
       "      <td>1</td>\n",
       "    </tr>\n",
       "    <tr>\n",
       "      <th>HC070041</th>\n",
       "      <td></td>\n",
       "      <td>0</td>\n",
       "    </tr>\n",
       "    <tr>\n",
       "      <th>HC150036</th>\n",
       "      <td></td>\n",
       "      <td>0</td>\n",
       "    </tr>\n",
       "    <tr>\n",
       "      <th>HC150044</th>\n",
       "      <td></td>\n",
       "      <td>0</td>\n",
       "    </tr>\n",
       "    <tr>\n",
       "      <th>2010-age-21</th>\n",
       "      <td>222</td>\n",
       "      <td>1</td>\n",
       "    </tr>\n",
       "    <tr>\n",
       "      <th>2009-age-53</th>\n",
       "      <td>157</td>\n",
       "      <td>1</td>\n",
       "    </tr>\n",
       "    <tr>\n",
       "      <th>VIDD pool</th>\n",
       "      <td></td>\n",
       "      <td>0</td>\n",
       "    </tr>\n",
       "  </tbody>\n",
       "</table>"
      ],
      "text/plain": [
       "<IPython.core.display.HTML object>"
      ]
     },
     "metadata": {},
     "output_type": "display_data"
    }
   ],
   "source": [
    "display(HTML(sigsites_df\n",
    "             .sort_values('isite')\n",
    "             .assign(nsites=1)\n",
    "             .groupby('serum_name_formatted')\n",
    "             .aggregate({'site': lambda x: ', '.join(list(x)),\n",
    "                         'nsites': 'sum'})\n",
    "             .rename(columns={'site': 'significant sites',\n",
    "                              'nsites': 'number of sites'})\n",
    "             .to_html()\n",
    "             ))"
   ]
  },
  {
   "cell_type": "markdown",
   "metadata": {},
   "source": [
    "#### Get significant sites for each serum group\n",
    "In the analyses below, we may want to plot the sites that are significant within at least one serum sample for each serum group.\n",
    "Therefore, we determine the significant sites within each serum group:"
   ]
  },
  {
   "cell_type": "code",
   "execution_count": 42,
   "metadata": {},
   "outputs": [
    {
     "data": {
      "text/html": [
       "<table border=\"1\" class=\"dataframe\">\n",
       "  <thead>\n",
       "    <tr style=\"text-align: right;\">\n",
       "      <th></th>\n",
       "      <th>isite</th>\n",
       "      <th>site</th>\n",
       "      <th>nsites</th>\n",
       "    </tr>\n",
       "    <tr>\n",
       "      <th>serum_group</th>\n",
       "      <th></th>\n",
       "      <th></th>\n",
       "      <th></th>\n",
       "    </tr>\n",
       "  </thead>\n",
       "  <tbody>\n",
       "    <tr>\n",
       "      <th>child_high_bind</th>\n",
       "      <td>[360]</td>\n",
       "      <td>[(HA2)16]</td>\n",
       "      <td>1</td>\n",
       "    </tr>\n",
       "    <tr>\n",
       "      <th>VIDD_sera</th>\n",
       "      <td>[172, 237]</td>\n",
       "      <td>[157, 222]</td>\n",
       "      <td>2</td>\n",
       "    </tr>\n",
       "  </tbody>\n",
       "</table>"
      ],
      "text/plain": [
       "<IPython.core.display.HTML object>"
      ]
     },
     "metadata": {},
     "output_type": "display_data"
    }
   ],
   "source": [
    "sigsites_by_serumgroup = (\n",
    "    sigsites_df\n",
    "    [['serum_group', 'isite', 'site']]\n",
    "    .drop_duplicates()\n",
    "    .sort_values('isite')\n",
    "    .groupby('serum_group')\n",
    "    .aggregate(lambda x: list(x))\n",
    "    .assign(nsites=lambda x: x['site'].apply(len))\n",
    "    .sort_values('nsites')\n",
    "    )\n",
    "\n",
    "display(HTML(sigsites_by_serumgroup.to_html()))"
   ]
  },
  {
   "cell_type": "markdown",
   "metadata": {},
   "source": [
    "### Line and logo plots of average for each serum\n",
    "Now we plot the average (across libraries) selection for each serum."
   ]
  },
  {
   "cell_type": "markdown",
   "metadata": {},
   "source": [
    "#### Choose sites to zoom-in on\n",
    "In the plots, we will zoom in on important sites using logo plots.\n",
    "The reason that we zoom in on just a subset of sites is to keep the logo plots relatively compact.\n",
    "\n",
    "The sites we zoom in on will be those identified above as being under \"significant\" selection for all sera in that serum group."
   ]
  },
  {
   "cell_type": "markdown",
   "metadata": {},
   "source": [
    "We also may want to \"pad\" the sites that we zoom in on by zooming in on this many sites before and after each significant site.\n",
    "This is useful if you want to give some context to the zoomed sites.\n",
    "Below, set the amount of padding you want around each significant site; a value of 0 means no padding:"
   ]
  },
  {
   "cell_type": "code",
   "execution_count": 43,
   "metadata": {},
   "outputs": [],
   "source": [
    "zoom_pad = 0"
   ]
  },
  {
   "cell_type": "markdown",
   "metadata": {},
   "source": [
    "Now build a dict, *zoom_sites* that is keyed first by *serum_group* and then by *isite* and *site*, with values being the list of sites to zoom for that serum group:"
   ]
  },
  {
   "cell_type": "code",
   "execution_count": 44,
   "metadata": {},
   "outputs": [],
   "source": [
    "zoom_sites = {}\n",
    "for tup in sigsites_by_serumgroup.reset_index().itertuples(index=False):\n",
    "    isites = set(tup.isite)\n",
    "    for isite in list(isites):\n",
    "        for pad in range(-zoom_pad, zoom_pad + 1):\n",
    "            isites.add(isite + pad)\n",
    "    # only keep valid sites\n",
    "    isites = isites.intersection(set(avg_sel_df['isite']))\n",
    "    isites = sorted(isites)  # get as sorted list\n",
    "    # get sites corresponding to each isite\n",
    "    sites = (avg_sel_df\n",
    "             [['isite', 'site']]\n",
    "             .drop_duplicates()\n",
    "             .sort_values('isite')\n",
    "             .query('isite in @isites')\n",
    "             ['site']\n",
    "             .tolist()\n",
    "             )\n",
    "    zoom_sites[tup.serum_group] = {'isite': isites,\n",
    "                                   'site': sites,\n",
    "                                   'nsites': len(sites)}"
   ]
  },
  {
   "cell_type": "markdown",
   "metadata": {},
   "source": [
    "Here are the sites we will zoom in on for each serum group:"
   ]
  },
  {
   "cell_type": "code",
   "execution_count": 45,
   "metadata": {},
   "outputs": [
    {
     "data": {
      "text/html": [
       "<table border=\"1\" class=\"dataframe\">\n",
       "  <thead>\n",
       "    <tr style=\"text-align: right;\">\n",
       "      <th></th>\n",
       "      <th>isite</th>\n",
       "      <th>site</th>\n",
       "      <th>nsites</th>\n",
       "    </tr>\n",
       "  </thead>\n",
       "  <tbody>\n",
       "    <tr>\n",
       "      <th>VIDD_sera</th>\n",
       "      <td>[172, 237]</td>\n",
       "      <td>[157, 222]</td>\n",
       "      <td>2</td>\n",
       "    </tr>\n",
       "    <tr>\n",
       "      <th>child_high_bind</th>\n",
       "      <td>[360]</td>\n",
       "      <td>[(HA2)16]</td>\n",
       "      <td>1</td>\n",
       "    </tr>\n",
       "  </tbody>\n",
       "</table>"
      ],
      "text/plain": [
       "<IPython.core.display.HTML object>"
      ]
     },
     "metadata": {},
     "output_type": "display_data"
    }
   ],
   "source": [
    "display(HTML(pd.DataFrame.from_dict(zoom_sites, orient='index').to_html()))"
   ]
  },
  {
   "cell_type": "markdown",
   "metadata": {},
   "source": [
    "Add a column (`zoom_site`) to `avg_sel_df` that indicates which sites to zoom in on:"
   ]
  },
  {
   "cell_type": "code",
   "execution_count": 46,
   "metadata": {},
   "outputs": [
    {
     "ename": "KeyError",
     "evalue": "'adult_high_bind'",
     "output_type": "error",
     "traceback": [
      "\u001b[0;31m---------------------------------------------------------------------------\u001b[0m",
      "\u001b[0;31mKeyError\u001b[0m                                  Traceback (most recent call last)",
      "\u001b[0;32m<ipython-input-46-d69d74e2065d>\u001b[0m in \u001b[0;36m<module>\u001b[0;34m\u001b[0m\n\u001b[1;32m      2\u001b[0m         [df.assign(zoom_site=lambda x: x['isite'].isin(\n\u001b[1;32m      3\u001b[0m                             zoom_sites[serum_group]['isite']))\n\u001b[0;32m----> 4\u001b[0;31m          for serum_group, df in avg_sel_df.groupby('serum_group')],\n\u001b[0m\u001b[1;32m      5\u001b[0m         \u001b[0mignore_index\u001b[0m\u001b[0;34m=\u001b[0m\u001b[0;32mTrue\u001b[0m\u001b[0;34m\u001b[0m\u001b[0;34m\u001b[0m\u001b[0m\n\u001b[1;32m      6\u001b[0m         )\n",
      "\u001b[0;32m<ipython-input-46-d69d74e2065d>\u001b[0m in \u001b[0;36m<listcomp>\u001b[0;34m(.0)\u001b[0m\n\u001b[1;32m      2\u001b[0m         [df.assign(zoom_site=lambda x: x['isite'].isin(\n\u001b[1;32m      3\u001b[0m                             zoom_sites[serum_group]['isite']))\n\u001b[0;32m----> 4\u001b[0;31m          for serum_group, df in avg_sel_df.groupby('serum_group')],\n\u001b[0m\u001b[1;32m      5\u001b[0m         \u001b[0mignore_index\u001b[0m\u001b[0;34m=\u001b[0m\u001b[0;32mTrue\u001b[0m\u001b[0;34m\u001b[0m\u001b[0;34m\u001b[0m\u001b[0m\n\u001b[1;32m      6\u001b[0m         )\n",
      "\u001b[0;32m/fh/fast/bloom_j/software/conda/envs/BloomLab_v2/lib/python3.6/site-packages/pandas/core/frame.py\u001b[0m in \u001b[0;36massign\u001b[0;34m(self, **kwargs)\u001b[0m\n\u001b[1;32m   3549\u001b[0m         \u001b[0;32mif\u001b[0m \u001b[0mPY36\u001b[0m\u001b[0;34m:\u001b[0m\u001b[0;34m\u001b[0m\u001b[0;34m\u001b[0m\u001b[0m\n\u001b[1;32m   3550\u001b[0m             \u001b[0;32mfor\u001b[0m \u001b[0mk\u001b[0m\u001b[0;34m,\u001b[0m \u001b[0mv\u001b[0m \u001b[0;32min\u001b[0m \u001b[0mkwargs\u001b[0m\u001b[0;34m.\u001b[0m\u001b[0mitems\u001b[0m\u001b[0;34m(\u001b[0m\u001b[0;34m)\u001b[0m\u001b[0;34m:\u001b[0m\u001b[0;34m\u001b[0m\u001b[0;34m\u001b[0m\u001b[0m\n\u001b[0;32m-> 3551\u001b[0;31m                 \u001b[0mdata\u001b[0m\u001b[0;34m[\u001b[0m\u001b[0mk\u001b[0m\u001b[0;34m]\u001b[0m \u001b[0;34m=\u001b[0m \u001b[0mcom\u001b[0m\u001b[0;34m.\u001b[0m\u001b[0mapply_if_callable\u001b[0m\u001b[0;34m(\u001b[0m\u001b[0mv\u001b[0m\u001b[0;34m,\u001b[0m \u001b[0mdata\u001b[0m\u001b[0;34m)\u001b[0m\u001b[0;34m\u001b[0m\u001b[0;34m\u001b[0m\u001b[0m\n\u001b[0m\u001b[1;32m   3552\u001b[0m         \u001b[0;32melse\u001b[0m\u001b[0;34m:\u001b[0m\u001b[0;34m\u001b[0m\u001b[0;34m\u001b[0m\u001b[0m\n\u001b[1;32m   3553\u001b[0m             \u001b[0;31m# <= 3.5: do all calculations first...\u001b[0m\u001b[0;34m\u001b[0m\u001b[0;34m\u001b[0m\u001b[0;34m\u001b[0m\u001b[0m\n",
      "\u001b[0;32m/fh/fast/bloom_j/software/conda/envs/BloomLab_v2/lib/python3.6/site-packages/pandas/core/common.py\u001b[0m in \u001b[0;36mapply_if_callable\u001b[0;34m(maybe_callable, obj, **kwargs)\u001b[0m\n\u001b[1;32m    327\u001b[0m \u001b[0;34m\u001b[0m\u001b[0m\n\u001b[1;32m    328\u001b[0m     \u001b[0;32mif\u001b[0m \u001b[0mcallable\u001b[0m\u001b[0;34m(\u001b[0m\u001b[0mmaybe_callable\u001b[0m\u001b[0;34m)\u001b[0m\u001b[0;34m:\u001b[0m\u001b[0;34m\u001b[0m\u001b[0;34m\u001b[0m\u001b[0m\n\u001b[0;32m--> 329\u001b[0;31m         \u001b[0;32mreturn\u001b[0m \u001b[0mmaybe_callable\u001b[0m\u001b[0;34m(\u001b[0m\u001b[0mobj\u001b[0m\u001b[0;34m,\u001b[0m \u001b[0;34m**\u001b[0m\u001b[0mkwargs\u001b[0m\u001b[0;34m)\u001b[0m\u001b[0;34m\u001b[0m\u001b[0;34m\u001b[0m\u001b[0m\n\u001b[0m\u001b[1;32m    330\u001b[0m \u001b[0;34m\u001b[0m\u001b[0m\n\u001b[1;32m    331\u001b[0m     \u001b[0;32mreturn\u001b[0m \u001b[0mmaybe_callable\u001b[0m\u001b[0;34m\u001b[0m\u001b[0;34m\u001b[0m\u001b[0m\n",
      "\u001b[0;32m<ipython-input-46-d69d74e2065d>\u001b[0m in \u001b[0;36m<lambda>\u001b[0;34m(x)\u001b[0m\n\u001b[1;32m      1\u001b[0m avg_sel_df = pd.concat(\n\u001b[1;32m      2\u001b[0m         [df.assign(zoom_site=lambda x: x['isite'].isin(\n\u001b[0;32m----> 3\u001b[0;31m                             zoom_sites[serum_group]['isite']))\n\u001b[0m\u001b[1;32m      4\u001b[0m          for serum_group, df in avg_sel_df.groupby('serum_group')],\n\u001b[1;32m      5\u001b[0m         \u001b[0mignore_index\u001b[0m\u001b[0;34m=\u001b[0m\u001b[0;32mTrue\u001b[0m\u001b[0;34m\u001b[0m\u001b[0;34m\u001b[0m\u001b[0m\n",
      "\u001b[0;31mKeyError\u001b[0m: 'adult_high_bind'"
     ]
    }
   ],
   "source": [
    "avg_sel_df = pd.concat(\n",
    "        [df.assign(zoom_site=lambda x: x['isite'].isin(\n",
    "                            zoom_sites[serum_group]['isite']))\n",
    "         for serum_group, df in avg_sel_df.groupby('serum_group')],\n",
    "        ignore_index=True\n",
    "        )"
   ]
  },
  {
   "cell_type": "markdown",
   "metadata": {},
   "source": [
    "#### Write tidy data frame with selection data\n",
    "We now have all the information used to display the data in the tidy data frame `avg_sel_df`, which has the selection for every mutation for each antibody averaged across this replicates.\n",
    "We write this data frame to a CSV file, getting rid of some unneeded columns:"
   ]
  },
  {
   "cell_type": "code",
   "execution_count": null,
   "metadata": {},
   "outputs": [],
   "source": [
    "avg_sel_df_file = os.path.join(config['avgdiffseldir'],\n",
    "                                'avg_sel_tidy.csv')\n",
    "print(f\"Writing average selection information to {avg_sel_df_file}\")\n",
    "\n",
    "(avg_sel_df\n",
    " .query('library == @avg_type')\n",
    " .drop(columns=['library', 'name_formatted', 'serum_description',\n",
    "                'serum_name', 'serum_species'])\n",
    " .to_csv(avg_sel_df_file, index=False, float_format='%.5g')\n",
    " )"
   ]
  },
  {
   "cell_type": "markdown",
   "metadata": {},
   "source": [
    "#### Compact \"zoom\" plots\n",
    "For each group of sera we make line plots that show the site-level selection and logo plots that zoom in on mutations at the sites of significant selection.\n",
    "We make these plots using the `facet_plot` command of [dmslogo](https://jbloomlab.github.io/dmslogo/).\n",
    "\n",
    "We want to label the logo plots with site numbers **and** wildtype residue, so first we create a column that contains this information:"
   ]
  },
  {
   "cell_type": "code",
   "execution_count": null,
   "metadata": {},
   "outputs": [],
   "source": [
    "avg_sel_df = avg_sel_df.assign(site_label=lambda x: x['wildtype'] +\n",
    "                               x['site'].astype('str'))"
   ]
  },
  {
   "cell_type": "markdown",
   "metadata": {},
   "source": [
    "We will use axes with shared ylimits across rows for all plots **except** for the *antibody* serum group:"
   ]
  },
  {
   "cell_type": "code",
   "execution_count": null,
   "metadata": {},
   "outputs": [],
   "source": [
    "share_ylim_across_rows = {serum_group: ('antibody' not in serum_group)\n",
    "                          for serum_group in avg_sel_df['serum_group'].unique()}"
   ]
  },
  {
   "cell_type": "markdown",
   "metadata": {},
   "source": [
    "Now we make the line and logo plots.\n",
    "We also save PDF versions of each plot:"
   ]
  },
  {
   "cell_type": "code",
   "execution_count": null,
   "metadata": {
    "scrolled": false
   },
   "outputs": [],
   "source": [
    "os.makedirs(config['avgdiffsel_zoom_dir'], exist_ok=True)\n",
    "\n",
    "for serum_group, df in avg_sel_df.groupby('serum_group'):\n",
    "\n",
    "    plotfile = os.path.join(config['avgdiffsel_zoom_dir'],\n",
    "                            f\"{serum_group}_avg.pdf\")\n",
    "    print(f\"\\n\\n{'*' * 72}\\nSerum group {serum_group}, saving to {plotfile}\\n\")\n",
    "\n",
    "    fig, axes = dmslogo.facet_plot(\n",
    "            data=df.query('library == @avg_type'),\n",
    "            x_col='isite',\n",
    "            show_col='zoom_site',\n",
    "            gridrow_col='serum_name_formatted',\n",
    "            share_xlabel=True,\n",
    "            share_ylabel=True,\n",
    "            share_ylim_across_rows=share_ylim_across_rows[serum_group],\n",
    "            wspace=0.6,\n",
    "            draw_line_kwargs=dict(\n",
    "                    height_col='positive_diffsel',\n",
    "                    xtick_col='site',\n",
    "                    ylabel='immune selection',\n",
    "                    ),\n",
    "            draw_logo_kwargs=dict(\n",
    "                    letter_col='mutation',\n",
    "                    letter_height_col='mutdiffsel',\n",
    "                    xtick_col='site_label',\n",
    "                    xlabel='site',\n",
    "                    ylabel='immune selection',\n",
    "                    clip_negative_heights=True,\n",
    "                    ),\n",
    "            )\n",
    "    display(fig)\n",
    "    fig.savefig(plotfile)\n",
    "    plt.close(fig)"
   ]
  },
  {
   "cell_type": "markdown",
   "metadata": {},
   "source": [
    "#### Whole-gene logo plots\n",
    "Finally, we make whole-gene logo plots for each serum that shows the replicate-average selection for **all** sites.\n",
    "We make these whole-gene plots using [dms2_logoplot](https://jbloomlab.github.io/dms_tools2/dms2_logoplot.html).\n",
    "They are too large to be useful to show visually in this notebook, but the cell below gives the name of the PDF holding each logo plot so you can examine them individually if you'd like."
   ]
  },
  {
   "cell_type": "code",
   "execution_count": null,
   "metadata": {},
   "outputs": [],
   "source": [
    "outdir = config['avgdiffsel_full_dir']  # save plots here\n",
    "os.makedirs(outdir, exist_ok=True)\n",
    "\n",
    "for tup in (avg_selections\n",
    "            .query('library == @avg_type')\n",
    "            .itertuples(index=False)\n",
    "            ):\n",
    "    name = getattr(tup, \"serum_name_formatted\")\n",
    "    plotfile = os.path.join(outdir, f\"{name}_diffsel.pdf\")\n",
    "    if os.path.isfile(plotfile) and config['use_existing'] == 'yes':\n",
    "        print(f\"{plotfile} already exists.\")\n",
    "        continue\n",
    "    datafile = getattr(tup, 'mutdiffsel_file')\n",
    "    maxsitediffsel = (pd.read_csv(getattr(tup, 'sitediffsel_file'))\n",
    "                      ['positive_diffsel']\n",
    "                      .max()\n",
    "                      )\n",
    "    barheight = f\"{0.5 * maxsitediffsel:.2g}\"\n",
    "    barlabel = f\"differential selection = {barheight}\"\n",
    "    cmds = ['dms2_logoplot',\n",
    "            '--outdir', outdir,\n",
    "            '--diffsel', datafile,\n",
    "            '--name', name,\n",
    "            '--nperline', '95',\n",
    "            '--overlay1', datafile, 'wildtype', 'wildtype',\n",
    "            '--underlay', 'yes', \n",
    "            '--restrictdiffsel', 'positive',\n",
    "            '--scalebar', barheight, barlabel,\n",
    "            '--use_existing', config['use_existing'],\n",
    "            ]\n",
    "    print(f\"Plotting {name} to {plotfile}\")\n",
    "    subprocess.check_output(cmds)\n",
    "    assert os.path.isfile(plotfile)"
   ]
  },
  {
   "cell_type": "markdown",
   "metadata": {},
   "source": [
    "### Plots of each replicate in averages\n",
    "In the above section, we plotted the average for each serum.\n",
    "Here we also show some data for the replicates that went into this average."
   ]
  },
  {
   "cell_type": "markdown",
   "metadata": {},
   "source": [
    "#### Zoom plots showing each replicate\n",
    "Here we make line and zoomed logo plots for each replicate that goes into the average:"
   ]
  },
  {
   "cell_type": "code",
   "execution_count": null,
   "metadata": {
    "scrolled": false
   },
   "outputs": [],
   "source": [
    "os.makedirs(config['avgdiffsel_reps_dir'], exist_ok=True)\n",
    "\n",
    "for serum_group, df in avg_sel_df.groupby('serum_group'):\n",
    "\n",
    "    plotfile = os.path.join(config['avgdiffsel_reps_dir'],\n",
    "                            f\"{serum_group}_reps.pdf\")\n",
    "    svgplotfile = os.path.splitext(plotfile)[0] + '.svg'\n",
    "    print(f\"\\n\\n{'*' * 72}\\n{serum_group}, saving to {plotfile} and {svgplotfile}\\n\")\n",
    "\n",
    "    fig, axes = dmslogo.facet_plot(\n",
    "            data=df.query('library != @avg_type'),\n",
    "            x_col='isite',\n",
    "            show_col='zoom_site',\n",
    "            gridrow_col='serum_name_formatted',\n",
    "            gridcol_col='library',\n",
    "            share_xlabel=True,\n",
    "            share_ylabel=True,\n",
    "            share_ylim_across_rows=share_ylim_across_rows[serum_group],\n",
    "            wspace=0.6,\n",
    "            draw_line_kwargs=dict(\n",
    "                    height_col='positive_diffsel',\n",
    "                    xtick_col='site',\n",
    "                    ylabel='immune selection',\n",
    "                    ),\n",
    "            draw_logo_kwargs=dict(\n",
    "                    letter_col='mutation',\n",
    "                    letter_height_col='mutdiffsel',\n",
    "                    xtick_col='site_label',\n",
    "                    xlabel='site',\n",
    "                    ylabel='immune selection',\n",
    "                    clip_negative_heights=True,\n",
    "                    ),\n",
    "            )\n",
    "    display(fig)\n",
    "    fig.savefig(plotfile)\n",
    "    fig.savefig(svgplotfile)\n",
    "    plt.close(fig)"
   ]
  },
  {
   "cell_type": "markdown",
   "metadata": {},
   "source": [
    "#### Plot replicate-replicate correlations\n",
    "Now we plot the correlation among the replicates that we retained for each serum.\n",
    "First, we make a tidy data frame with the correlations between all pairs of replicates for the same serum:"
   ]
  },
  {
   "cell_type": "code",
   "execution_count": null,
   "metadata": {},
   "outputs": [],
   "source": [
    "corr_df = []\n",
    "\n",
    "serum_names = avg_sel_df['serum_name_formatted'].unique()\n",
    "libraries = [lib for lib in avg_sel_df['library'].unique() if lib != avg_type]\n",
    "\n",
    "for serum_name, serum_sel_df in avg_sel_df.groupby('serum_name_formatted'):\n",
    "\n",
    "    corr_df.append(\n",
    "               serum_sel_df\n",
    "               .query('library in @libraries')\n",
    "               .pivot_table(values='positive_diffsel',\n",
    "                            columns='library',\n",
    "                            index=['site'])\n",
    "               .corr(method='pearson')\n",
    "               .reset_index()\n",
    "               .melt(id_vars='library',\n",
    "                     var_name='lib_B',\n",
    "                     value_name='correlation')\n",
    "               .rename(columns={'library': 'lib_A'})\n",
    "               .query('lib_A <= lib_B')\n",
    "               .assign(serum_name=serum_name)\n",
    "               )\n",
    "\n",
    "corr_df = (pd.concat(corr_df, ignore_index=True)\n",
    "           .assign(serum_name=lambda x: pd.Categorical(x['serum_name'],\n",
    "                                                       serum_names,\n",
    "                                                       ordered=True),\n",
    "                   lib_A=lambda x: pd.Categorical(x['lib_A'],\n",
    "                                                  libraries,\n",
    "                                                  ordered=True),\n",
    "                   lib_B=lambda x: pd.Categorical(x['lib_B'],\n",
    "                                                  reversed(libraries),\n",
    "                                                  ordered=True),\n",
    "                   corr_str=lambda x: x['correlation'].apply('{:.2f}'.format)\n",
    "                   )\n",
    "           )\n",
    "\n",
    "print('Here are the first few lines of the tidy correlation data frame:')\n",
    "display(HTML(corr_df.head().to_html(index=False)))"
   ]
  },
  {
   "cell_type": "markdown",
   "metadata": {},
   "source": [
    "Now we use [plotnine](https://plotnine.readthedocs.io) to plot a correlation matrix for each serum, and then save to a file as well as showing it:"
   ]
  },
  {
   "cell_type": "code",
   "execution_count": null,
   "metadata": {},
   "outputs": [],
   "source": [
    "ncol = 5\n",
    "nsera = len(corr_df['serum_name'].unique())\n",
    "\n",
    "corr_plot = (\n",
    "    ggplot(corr_df, aes('lib_A', 'lib_B',\n",
    "                        fill='correlation', label='corr_str')) +\n",
    "    geom_tile(color='white', size=0.5) +\n",
    "    geom_text() +\n",
    "    facet_wrap('~ serum_name', ncol=ncol) +\n",
    "    theme(figure_size=(2.55 * ncol, 2.55 * math.ceil(nsera / ncol)),\n",
    "          panel_grid_major=element_blank()\n",
    "          ) +\n",
    "    scale_fill_continuous(limits=(0, 1)) +\n",
    "    xlab('') +\n",
    "    ylab('')\n",
    "    )\n",
    "\n",
    "_ = corr_plot.draw()\n",
    "\n",
    "rep_corr_plot = os.path.join(config['avgdiffsel_reps_dir'], 'rep_corr_matrix.pdf')\n",
    "print(f\"Saving plot to {rep_corr_plot}\")\n",
    "corr_plot.save(rep_corr_plot)"
   ]
  },
  {
   "cell_type": "markdown",
   "metadata": {},
   "source": [
    "## Customized figures for paper\n",
    "\n",
    "In the following section, we will generate additional customized paper figures not created above.\n",
    "\n",
    "These go in the following directory:"
   ]
  },
  {
   "cell_type": "code",
   "execution_count": null,
   "metadata": {},
   "outputs": [],
   "source": [
    "print(f\"Putting additional figures in {config['figsdir']}\")\n",
    "os.makedirs(config['figsdir'], exist_ok=True)"
   ]
  },
  {
   "cell_type": "markdown",
   "metadata": {},
   "source": [
    "We will save each of these figures with the following extensions:"
   ]
  },
  {
   "cell_type": "code",
   "execution_count": null,
   "metadata": {},
   "outputs": [],
   "source": [
    "fig_extensions = ['.pdf', '.svg']"
   ]
  },
  {
   "cell_type": "markdown",
   "metadata": {},
   "source": [
    "### Logo and line plot figures\n",
    "Now we are going to make versions of the zoomed logo plots that are slightly different than the ones above.\n",
    "We read in colors for specific mutations from a YAML file; these colors match those used to plot the neutralization curves.\n",
    "We also plot a slightly different set of sites: not just the \"significant\" ones, but also others of interest (these are sites of strong selection in ferrets).\n",
    "\n",
    "First, get data frames with sites to zoom on and how to color them, and how to color specific mutations:"
   ]
  },
  {
   "cell_type": "code",
   "execution_count": null,
   "metadata": {},
   "outputs": [],
   "source": [
    "with open(config['figure_config']) as f:\n",
    "    fig_config = yaml.safe_load(f)\n",
    "\n",
    "zoom_sites = []\n",
    "mutation_colors = []\n",
    "for figure, fig_d in fig_config['figures'].items():\n",
    "    # process zoom sites\n",
    "    site_color_map = collections.defaultdict(lambda: fig_config['default_logo_color'])\n",
    "    if 'site_colors' in fig_d:\n",
    "        for r, c in fig_d['site_colors'].items():\n",
    "            site_color_map[str(r)] = c\n",
    "    zoom_sites.append(\n",
    "        pd.DataFrame({'figure': figure,\n",
    "                      'sera': fig_d['sera'],\n",
    "                      'dummy': 0})\n",
    "        .merge(pd.DataFrame({'site': avg_sel_df['site'].unique(),\n",
    "                             'dummy': 0}))\n",
    "        .drop(columns='dummy')\n",
    "        .assign(zoom=lambda x: x['site'].isin([str(r) for r in fig_d['sites']]),\n",
    "                color=lambda x: x['site'].map(site_color_map)\n",
    "                )\n",
    "        )\n",
    "    # process colors\n",
    "    muts = [mut for mut in fig_d['colors'] if mut not in {'wt', 'syn'}]\n",
    "    mutation_colors.append(\n",
    "        pd.DataFrame({'figure': figure,\n",
    "                      'sera': fig_d['sera'],\n",
    "                      'dummy': 0})\n",
    "        .merge(pd.DataFrame({'site': [mut[1 : -1] for mut in muts],\n",
    "                             'mutation': [mut[-1] for mut in muts],\n",
    "                             'color': [fig_d['colors'][mut][0] for mut in muts],\n",
    "                             'dummy': 0}))\n",
    "        .drop(columns='dummy')\n",
    "        )\n",
    "\n",
    "zoom_sites = pd.concat(zoom_sites)\n",
    "mutation_colors = pd.concat(mutation_colors)"
   ]
  },
  {
   "cell_type": "markdown",
   "metadata": {},
   "source": [
    "Merge the zoom and mutation-color data frames with the data on all of the immune selection values:"
   ]
  },
  {
   "cell_type": "code",
   "execution_count": null,
   "metadata": {},
   "outputs": [],
   "source": [
    "colored_zoom_df = (\n",
    "    avg_sel_df\n",
    "    .query('library == @avg_type')\n",
    "    [['serum_name_formatted', 'isite', 'site', 'mutation',\n",
    "      'positive_diffsel', 'mutdiffsel', 'site_label']]\n",
    "    .rename(columns={'serum_name_formatted': 'sera'})\n",
    "    .merge(zoom_sites,\n",
    "           on=['sera', 'site'],\n",
    "           how='left')\n",
    "    .assign(zoom=lambda x: x['zoom'].fillna(False))\n",
    "    .merge(mutation_colors,\n",
    "           on=['figure', 'sera', 'site', 'mutation'],\n",
    "           how='left')\n",
    "    .assign(color=lambda x: x['color_x'].where(x['color_y'].isna(), x['color_y']))\n",
    "    .drop(columns=['color_x', 'color_y'])\n",
    "    )"
   ]
  },
  {
   "cell_type": "markdown",
   "metadata": {},
   "source": [
    "Make the zoomed logo plots:"
   ]
  },
  {
   "cell_type": "code",
   "execution_count": null,
   "metadata": {},
   "outputs": [],
   "source": [
    "for figure, df in colored_zoom_df.groupby('figure'):\n",
    "        \n",
    "    if 'sera_names' in fig_config['figures'][figure]:\n",
    "        name_map = fig_config['figures'][figure]['sera_names']\n",
    "    else:\n",
    "        name_map = {s: s.replace('-', ' ') for s in df.sera.unique()}\n",
    "    df = df.assign(sera_names=lambda x: pd.Categorical(x.sera.map(name_map),\n",
    "                                                       x.sera.map(name_map).unique(),\n",
    "                                                       ordered=True))\n",
    "        \n",
    "    fig, axes = dmslogo.facet_plot(\n",
    "            data=df,\n",
    "            x_col='isite',\n",
    "            show_col='zoom',\n",
    "            gridrow_col='sera_names',\n",
    "            share_xlabel=True,\n",
    "            share_ylabel=True,\n",
    "            share_ylim_across_rows=share_ylim_across_rows[serum_group],\n",
    "            wspace=0.6,\n",
    "            rmargin=0.7,\n",
    "            draw_line_kwargs=dict(\n",
    "                    height_col='positive_diffsel',\n",
    "                    xtick_col='site',\n",
    "                    ylabel='immune selection',\n",
    "                    show_color=PALETTE[-2],\n",
    "                    ),\n",
    "            draw_logo_kwargs=dict(\n",
    "                    letter_col='mutation',\n",
    "                    letter_height_col='mutdiffsel',\n",
    "                    color_col='color',\n",
    "                    xtick_col='site_label',\n",
    "                    xlabel='site',\n",
    "                    ylabel='immune selection',\n",
    "                    clip_negative_heights=True,\n",
    "                    ),\n",
    "            )\n",
    "    display(fig)\n",
    "    for ext in fig_extensions:\n",
    "        plotfile = os.path.join(config['figsdir'], f\"{figure}_logo{ext}\")\n",
    "        print(f\"Saving figure to {plotfile}\")\n",
    "        fig.savefig(plotfile)\n",
    "    plt.close(fig)"
   ]
  },
  {
   "cell_type": "markdown",
   "metadata": {},
   "source": [
    "### Replicate-to-replicate correlations\n",
    "Plot replicate-replicate correlations for the sera in each figure:"
   ]
  },
  {
   "cell_type": "code",
   "execution_count": null,
   "metadata": {},
   "outputs": [],
   "source": [
    "for figure, fig_d in fig_config['figures'].items():\n",
    "\n",
    "    sera = fig_d['sera']\n",
    "    \n",
    "    if len(sera) == 5:\n",
    "        ncol = 5\n",
    "    else:\n",
    "        ncol = 4\n",
    "\n",
    "    fig_corr_df = (corr_df\n",
    "                   .query('serum_name in @sera')\n",
    "                   .assign(serum_name=lambda x: x['serum_name'].str.replace('-', ' '))\n",
    "                   )\n",
    "    fig_corr_plot = (\n",
    "        ggplot(fig_corr_df, aes('lib_A', 'lib_B',\n",
    "                            fill='correlation', label='corr_str')) +\n",
    "        geom_tile(color='white', size=0.5) +\n",
    "        geom_text() +\n",
    "        facet_wrap('~ serum_name', ncol=ncol) +\n",
    "        theme(figure_size=(2.55 * min(len(sera), ncol), 2.55 * math.ceil(len(sera) / ncol)),\n",
    "              panel_grid_major=element_blank()\n",
    "              ) +\n",
    "        scale_fill_continuous(limits=(0, 1)) +\n",
    "        xlab('') +\n",
    "        ylab('')\n",
    "        )\n",
    "\n",
    "    print(fig_corr_plot)\n",
    "    \n",
    "    for ext in fig_extensions:\n",
    "        plotfile = os.path.join(config['figsdir'], f\"{figure}_rep_corr{ext}\")\n",
    "        print(f\"Saving figure to {plotfile}\")\n",
    "        fig_corr_plot.save(plotfile)"
   ]
  },
  {
   "cell_type": "markdown",
   "metadata": {},
   "source": [
    "### Percent infectivity for each replicate\n",
    "Plot the percent infectivity remaining for the library for each selection."
   ]
  },
  {
   "cell_type": "code",
   "execution_count": null,
   "metadata": {},
   "outputs": [],
   "source": [
    "def format_label(x):\n",
    "    if x == 100:\n",
    "        lab = '100'\n",
    "    else:\n",
    "        lab = '{0:#.2g}'.format(x)\n",
    "    if lab[-1] == '.':\n",
    "        lab = lab[: -1]\n",
    "    return lab + '%'\n",
    "        \n",
    "\n",
    "for figure, fig_d in fig_config['figures'].items():\n",
    "\n",
    "    sera = fig_d['sera']\n",
    "\n",
    "    df = (selections\n",
    "          .query('retained')\n",
    "          .query('serum_name_formatted in @sera')\n",
    "          [['serum_name_formatted', 'library', 'percent_infectivity']]\n",
    "          .assign(serum=lambda x: x['serum_name_formatted'].str.replace('-', ' '),\n",
    "                  label=lambda x: x['percent_infectivity'].apply(format_label)\n",
    "                  )\n",
    "          )\n",
    "    ymax = max(100, 10**math.ceil(math.log10(df['percent_infectivity'].max())))\n",
    "    ymin = min(0.1, 10**math.floor(math.log10(df['percent_infectivity'].min())))\n",
    "    yextent = math.log10(ymax / ymin)\n",
    "    if df['percent_infectivity'].max() > 50:\n",
    "        nudge_y = -0.1 * yextent\n",
    "    else:\n",
    "        nudge_y = 0.1 * yextent\n",
    "    if len(sera) == 5:\n",
    "        ncol = 5\n",
    "    else:\n",
    "        ncol = 4\n",
    "        \n",
    "    plot_percent_infectivity = (\n",
    "        ggplot(df, aes('library', 'percent_infectivity', label='label', color='library')) +\n",
    "        geom_point(size=3) +\n",
    "        geom_text(size=10, nudge_y=nudge_y) +\n",
    "        facet_wrap('~ serum', ncol=ncol) +\n",
    "        scale_y_log10(limits=(ymin, ymax), name='percent infectivity') +\n",
    "        theme(figure_size=(2.55 * min(ncol, len(sera)), 2.55 * math.ceil(len(sera) / ncol))) +\n",
    "        scale_color_manual(values=PALETTE[1: ], guide=False)\n",
    "        )\n",
    "    print(plot_percent_infectivity)\n",
    "    \n",
    "    for ext in fig_extensions:\n",
    "        plotfile = os.path.join(config['figsdir'], f\"{figure}_percent_infectivity{ext}\")\n",
    "        print(f\"Saving figure to {plotfile}\")\n",
    "        plot_percent_infectivity.save(plotfile)"
   ]
  },
  {
   "cell_type": "code",
   "execution_count": null,
   "metadata": {},
   "outputs": [],
   "source": []
  }
 ],
 "metadata": {
  "kernelspec": {
   "display_name": "Python 3",
   "language": "python",
   "name": "python3"
  },
  "language_info": {
   "codemirror_mode": {
    "name": "ipython",
    "version": 3
   },
   "file_extension": ".py",
   "mimetype": "text/x-python",
   "name": "python",
   "nbconvert_exporter": "python",
   "pygments_lexer": "ipython3",
   "version": "3.6.7"
  },
  "toc": {
   "base_numbering": 1,
   "nav_menu": {},
   "number_sections": false,
   "sideBar": true,
   "skip_h1_title": false,
   "title_cell": "Table of Contents",
   "title_sidebar": "Contents",
   "toc_cell": true,
   "toc_position": {
    "height": "calc(100% - 180px)",
    "left": "10px",
    "top": "150px",
    "width": "296.534px"
   },
   "toc_section_display": true,
   "toc_window_display": true
  },
  "toc-autonumbering": false,
  "toc-showcode": false,
  "toc-showmarkdowntxt": false,
  "toc-showtags": false
 },
 "nbformat": 4,
 "nbformat_minor": 2
}
